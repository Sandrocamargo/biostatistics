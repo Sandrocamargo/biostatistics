{
  "nbformat": 4,
  "nbformat_minor": 0,
  "metadata": {
    "colab": {
      "provenance": []
    },
    "kernelspec": {
      "name": "python3",
      "display_name": "Python 3"
    },
    "language_info": {
      "name": "python"
    }
  },
  "cells": [
    {
      "cell_type": "markdown",
      "source": [
        "# Curso: Bioestatística — Delineamento hierárquico\n",
        "## Autores: Sandro da Silva Camargo e Fernando Cardoso\n",
        "\n",
        "**Problema**:\n",
        "* Foi projetado um estudo de comportamento animal para verificar os potenciais efeitos depressores (Y) de 2 produtos farmacêuticos (Tratamentos);\n",
        "* 30 ratos foram utilizados no grupo de estudo, com 10 ratos atribuı́dos ao acaso a cada produto (T1 e T2) e 10 para o grupo de controle (C), que recebeu placebo.\n",
        "* A resposta foi medida 2 vezes (n=2) em cada animal.\n",
        "\n",
        "A base de dados está disponível [aqui](https://github.com/Sandrocamargo/biostatistics/blob/master/datasets/hierarquico-ratos.txt).\n",
        "\n",
        "Abra este código no seu google colab [clicando aqui](https://colab.research.google.com/github/Sandrocamargo/biostatistics/blob/master/python/bioe_08_Delineamento_Hierarquico.ipynb).\n",
        "\n",
        "# Delineamento completamente casualizado com subamostragem\n"
      ],
      "metadata": {
        "id": "J4Ij-o_vSl-s"
      }
    },
    {
      "cell_type": "markdown",
      "source": [
        "# Carga de bibliotecas"
      ],
      "metadata": {
        "id": "9x1arRtTUykf"
      }
    },
    {
      "cell_type": "code",
      "execution_count": null,
      "metadata": {
        "id": "TfEzatFMRxqi"
      },
      "outputs": [],
      "source": [
        "import pandas as pd\n",
        "import numpy as np\n",
        "import statsmodels.api as sm\n",
        "import statsmodels.formula.api as smf\n",
        "from statsmodels.stats.multicomp import pairwise_tukeyhsd\n",
        "import matplotlib.pyplot as plt\n",
        "import seaborn as sns"
      ]
    },
    {
      "cell_type": "markdown",
      "source": [
        "# Carga e inspeção de dados"
      ],
      "metadata": {
        "id": "g5eQRKyvU7k4"
      }
    },
    {
      "cell_type": "code",
      "source": [
        "dados = pd.read_csv(\"https://raw.githubusercontent.com/Sandrocamargo/biostatistics/refs/heads/master/datasets/hierarquico-ratos.txt\")\n",
        "\n",
        "# Conversão para categorias\n",
        "dados[\"tratamento\"] = dados[\"tratamento\"].astype(\"category\")\n",
        "dados[\"rato\"] = dados[\"rato\"].astype(\"category\")\n",
        "dados[\"rato_trt\"] = dados[\"rato.trt\"].astype(\"category\")\n",
        "\n",
        "dados.info()\n",
        "dados.describe()"
      ],
      "metadata": {
        "id": "-yvYnUkXSRqX"
      },
      "execution_count": null,
      "outputs": []
    },
    {
      "cell_type": "markdown",
      "source": [
        "# Ajuste do modelo ANOVA"
      ],
      "metadata": {
        "id": "LIJ-c9Q-VAzX"
      }
    },
    {
      "cell_type": "code",
      "source": [
        "# --- 3. ANOVA simples ---\n",
        "modelo_aov = smf.ols(\"y ~ C(tratamento)\", data=dados).fit()\n",
        "print(modelo_aov.summary())\n",
        "anova_table = sm.stats.anova_lm(modelo_aov, typ=2)\n",
        "print(\"\\n=== ANOVA ===\")\n",
        "print(anova_table)"
      ],
      "metadata": {
        "id": "--kTGeXUSTeG"
      },
      "execution_count": null,
      "outputs": []
    },
    {
      "cell_type": "markdown",
      "source": [
        "** 📊 Interpretação da regressão**\n",
        "|Parâmetro\t|Coef.\t|Interpretação|\n",
        "|:--|:--|:--|\n",
        "|Intercept |= 47.20\t|Representa a média do grupo controle.\t|\n",
        "|C(tratamento)[T.T1]| = -11.55\t|A média do grupo T1 é 11,55 unidades menor que a do controle, diferença altamente significativa (p < 0.001).\t|\n",
        "|C(tratamento)[T.T2]| = -10.00\t|A média do grupo T2 é 10 unidades menor que a do controle, também altamente significativa (p < 0.001).\t|\n",
        "\n",
        "➡️ Assim, as médias estimadas são aproximadamente:\n",
        "\n",
        "* Controle: 47.20\n",
        "* T1: 35.65\n",
        "* T2: 37.20\n",
        "\n",
        "**🧠 Significância e ajuste do modelo**\n",
        "|Indicador\t|Valor\t|Interpretação|\n",
        "|:--|:--|:--|\n",
        "|R² |= 0.453\t|O modelo explica cerca de 45,3% da variação total em y.\t|\n",
        "|F(2,57) |= 23.59, p < 0.0001\t|O fator tratamento é globalmente significativo — ou seja, pelo menos um dos tratamentos difere do outro.\t|\n",
        "|Durbin-Watson |= 2.64\t|Sem autocorrelação relevante entre resíduos (valor próximo de 2 é ideal).\t|\n",
        "|Omnibus e Jarque-Bera |(p > 0.3)\t|Indicam normalidade dos resíduos, o que valida o modelo ANOVA.\t|\n",
        "\n",
        "**🔬 ANOVA**\n",
        "|Fonte de variação\t|SQ\t|gl\t|F\t|p|\n",
        "|:--|:--|:--|:--|:--|\n",
        "|Tratamento\t|1572,03\t|2\t|23.59|\t3.4e−08|\n",
        "|Resíduo\t|1898,95\t|57\t|—|\t—|\n",
        "\n",
        "➡️ O valor de p < 0.001 confirma que há diferenças significativas entre os grupos.\n",
        "\n",
        "A proporção $\\frac{SQ_{Tratamentos}}{SQ_{Total}} = \\frac{1572}{1572+1899} = 45\\%$, coincide com o R², reforçando a coerência do modelo.\n",
        "\n",
        "**📈 Conclusão**\n",
        "\n",
        "* O tratamento tem efeito estatisticamente significativo sobre a variável resposta.\n",
        "* T1 e T2 apresentam valores menores que o controle, e ambos diferem de forma significativa.\n",
        "* T1 e T2 parecem ter efeitos semelhantes entre si, dado que suas estimativas são próximas (−11,55 vs −10,00).\n",
        "\n",
        "➡️ Seria interessante confirmar com um teste de comparações múltiplas (Tukey) se T1 e T2 diferem entre si."
      ],
      "metadata": {
        "id": "GVE4kaG7iMy_"
      }
    },
    {
      "cell_type": "markdown",
      "source": [
        "# Gráficos exploratórios"
      ],
      "metadata": {
        "id": "SBijrEtaka6X"
      }
    },
    {
      "cell_type": "code",
      "source": [
        "sns.boxplot(x=\"tratamento\", y=\"y\", data=dados)\n",
        "plt.title(\"Boxplot dos tratamentos\")\n",
        "plt.show()"
      ],
      "metadata": {
        "id": "BdGxvfTfSVXq"
      },
      "execution_count": null,
      "outputs": []
    },
    {
      "cell_type": "code",
      "source": [
        "plt.scatter(dados[\"y\"], modelo_aov.fittedvalues,\n",
        "            c=dados[\"tratamento\"].cat.codes, cmap=\"viridis\", s=70)\n",
        "plt.xlabel(\"Valores observados\")\n",
        "plt.ylabel(\"Valores preditos\")\n",
        "corr = np.corrcoef(dados[\"y\"], modelo_aov.fittedvalues)[0, 1]\n",
        "plt.title(f\"ANOVA ajustada\\nCorrelação = {corr:.4f}\")\n",
        "plt.plot([dados[\"y\"].min(), dados[\"y\"].max()],\n",
        "         [dados[\"y\"].min(), dados[\"y\"].max()], \"r--\")\n",
        "plt.show()"
      ],
      "metadata": {
        "id": "dZ-ti8-sSXKf"
      },
      "execution_count": null,
      "outputs": []
    },
    {
      "cell_type": "markdown",
      "source": [
        "# Teste de Tukey"
      ],
      "metadata": {
        "id": "Ut3FRwVAkile"
      }
    },
    {
      "cell_type": "code",
      "source": [
        "tukey = pairwise_tukeyhsd(endog=dados[\"y\"], groups=dados[\"tratamento\"], alpha=0.05)\n",
        "print(\"\\n=== Teste de Tukey ===\")\n",
        "print(tukey)"
      ],
      "metadata": {
        "id": "FdmR_ZkESY6i"
      },
      "execution_count": null,
      "outputs": []
    },
    {
      "cell_type": "markdown",
      "source": [
        "**🧩 Lógica do teste**\n",
        "\n",
        "O Tukey HSD (_Honest Significant Difference_) compara todas as médias par a par, controlando o erro tipo I global (FWER = 0.05).\n",
        "\n",
        "Cada linha da tabela mostra:\n",
        "* group1 / group2 → pares comparados\n",
        "* meandiff → diferença entre as médias (group2 − group1)\n",
        "* p-adj → valor de p ajustado\n",
        "* lower / upper → limites do intervalo de confiança da diferença\n",
        "* reject → se a hipótese nula (igualdade entre médias) foi rejeitada (True = diferença significativa)\n",
        "\n",
        "**📊 Interpretação dos resultados**\n",
        "|Comparação\t|Diferença média\t|p-ajustado\t|IC95%\t|Diferença significativa?\t|Interpretação|\n",
        "|:--|:--|:--|:--|:--|:--|\n",
        "|C vs T1\t|−11.55\t|0.000\t|[−15.94, −7.16]|\t✅ Sim\t|O grupo T1 tem média significativamente menor que o controle.|\n",
        "|C vs T2|\t−10.00\t|0.000\t|[−14.39, −5.61]|\t✅ Sim\t|O grupo T2 também tem média significativamente menor que o controle.|\n",
        "|T1 vs T2|\t+1.55\t|0.674\t|[−2.84, +5.94]|\t❌ Não\t|T1 e T2 não diferem significativamente entre si.|\n",
        "\n",
        "**🧠 Conclusão geral**\n",
        "* Há diferença estatisticamente significativa entre o grupo controle e ambos os tratamentos (T1 e T2).\n",
        "* Os tratamentos T1 e T2 produzem respostas menores que o controle, com redução média de cerca de 10 a 12 unidades.\n",
        "* Não há diferença significativa entre T1 e T2, o que sugere que os dois têm efeitos equivalentes sobre a variável resposta.\n",
        "\n",
        "**📈 Resumo interpretativo**\n",
        "\n",
        "$C (controle) > T1 ≈ T2$\n",
        "\n",
        "* Em termos práticos, isso indica que os dois tratamentos reduzem a resposta de forma semelhante e ambos diferem claramente do controle, mas não entre si."
      ],
      "metadata": {
        "id": "fDDzOKkHk_Ub"
      }
    },
    {
      "cell_type": "markdown",
      "source": [
        "# Modelo Misto (efeito aleatório: rato_trt)"
      ],
      "metadata": {
        "id": "RQkp8gUQmHHL"
      }
    },
    {
      "cell_type": "code",
      "source": [
        "md = smf.mixedlm(\"y ~ C(tratamento)\", data=dados, groups=dados[\"rato_trt\"])\n",
        "mfit = md.fit(reml=True)\n",
        "print(\"\\n=== Modelo Misto (LME) ===\")\n",
        "print(mfit.summary())"
      ],
      "metadata": {
        "id": "CltsHUfiSaXL"
      },
      "execution_count": null,
      "outputs": []
    },
    {
      "cell_type": "markdown",
      "source": [
        "**📊 Resultados fixos (efeitos médios dos tratamentos)**\n",
        "\n",
        "| Parâmetro | Estimativa | Erro Padrão | z | p-valor | IC95% | Interpretação |\n",
        "|------------|-------------|--------------|----|---------|----------------|--|\n",
        "| Intercept | 47.20 | 1.82 | 25.94 | $<$0.001 | [43.63, 50.77] | Média estimada do grupo Controle (C). |\n",
        "| T1 | −11.55 | 2.57 | −4.49 | $<$0.001 | [−16.59, −6.51] | O tratamento T1 reduz a média em cerca de 11,6 unidades em relação ao controle. Diferença altamente significativa. |\n",
        "| T2 | −10.00 | 2.57 | −3.89 | $<$0.001 | [−15.04, −4.96] | O tratamento T2 reduz a média em cerca de 10 unidades em relação ao controle. Diferença altamente significativa. |\n",
        "\n",
        "**✅ Conclusão**\n",
        "* Ambos os tratamentos (T1 e T2) apresentam efeito negativo significativo comparado ao controle.\n",
        "* As magnitudes das reduções são próximas — reforçando que T1 ≈ T2 < Controle.\n",
        "\n",
        "**🧩 Resultados aleatórios**\n",
        "|Componente\t|Variância\t|Interpretação|\n",
        "|:--|:--|:--|\n",
        "|Group |Var = 31.241\t\t|Há variabilidade considerável entre grupos (por exemplo, entre ratos dentro de cada tratamento). Isso justifica o uso do modelo misto. O modelo simples (ANOVA tradicional) ignoraria essa dependência.|\n",
        "\n",
        "* O fato de a variância de grupo ser diferente de zero mostra que as subamostras dentro do mesmo grupo são correlacionadas, e o modelo misto captura essa correlação adequadamente.\n",
        "\n",
        "**🧠 Interpretação geral**\n",
        "* O modelo convergiu bem (indicando ajuste estável).\n",
        "* Há diferenças significativas entre o controle e ambos os tratamentos.\n",
        "* A variabilidade entre grupos é importante e foi devidamente considerada (Group Var ≈ 31).\n",
        "* Não há indicação de problemas de ajuste (convergência ou erro de estimação).\n",
        "\n",
        "**📈 Resumo final**\n",
        "\n",
        "$Controle (C)>T1 ≈ T2$\n",
        "\n",
        "**Conclusão prática:**\n",
        "* Mesmo após considerar a variação entre grupos (ratos, plantas etc.), ambos os tratamentos reduziram significativamente a resposta média em relação ao controle, e não há diferença relevante entre T1 e T2."
      ],
      "metadata": {
        "id": "m8u7m9PptuNk"
      }
    },
    {
      "cell_type": "markdown",
      "source": [
        "# Diagnóstico e ajuste do modelo misto"
      ],
      "metadata": {
        "id": "6JUpE8MGu0fn"
      }
    },
    {
      "cell_type": "code",
      "source": [
        "plt.scatter(dados[\"y\"], mfit.fittedvalues,\n",
        "            c=dados[\"tratamento\"].cat.codes, cmap=\"plasma\", s=70)\n",
        "plt.xlabel(\"Valores observados\")\n",
        "plt.ylabel(\"Valores preditos (LME)\")\n",
        "corr2 = np.corrcoef(dados[\"y\"], mfit.fittedvalues)[0, 1]\n",
        "plt.title(f\"Modelo misto ajustado\\nCorrelação = {corr2:.4f}\")\n",
        "plt.plot([dados[\"y\"].min(), dados[\"y\"].max()],\n",
        "         [dados[\"y\"].min(), dados[\"y\"].max()], \"r--\")\n",
        "plt.show()\n",
        "\n",
        "# Histograma dos resíduos\n",
        "plt.hist(mfit.resid, bins=10, edgecolor='black')\n",
        "plt.title(\"Distribuição dos resíduos (modelo misto)\")\n",
        "plt.show()"
      ],
      "metadata": {
        "id": "TzXos0ECSbjg"
      },
      "execution_count": null,
      "outputs": []
    },
    {
      "cell_type": "markdown",
      "source": [
        "# Médias ajustadas (LS-means aproximadas)\n",
        "Predição ao valor médio dos efeitos aleatórios"
      ],
      "metadata": {
        "id": "ktPf9-OFvYc2"
      }
    },
    {
      "cell_type": "code",
      "source": [
        "means = (dados.groupby(\"tratamento\", observed=False)[\"y\"]\n",
        "         .agg([\"mean\", \"std\", \"count\"])\n",
        "         .rename(columns={\"mean\": \"lsmean\"}))\n",
        "print(\"\\n=== Médias ajustadas (aproximadas) ===\")\n",
        "print(means)"
      ],
      "metadata": {
        "id": "ekXPEBBLSc46"
      },
      "execution_count": null,
      "outputs": []
    },
    {
      "cell_type": "markdown",
      "source": [
        "**📊 O que são LS-means**\n",
        "\n",
        "As LS-means (Least Squares Means) representam as médias estimadas para cada tratamento, corrigidas pelos efeitos do modelo (por exemplo, considerando o efeito aleatório de grupos e eventuais covariáveis).\n",
        "Elas são preferíveis às médias simples quando há estrutura hierárquica ou desequilíbrio nos dados.\n",
        "\n",
        "**📈 Interpretação dos valores**\n",
        "|Tratamento\t|Média ajustada (LS-mean)|\tDesvio-padrão\t|n|\n",
        "|:--|:--|:--|:--|\n",
        "|C (Controle)\t|47.20\t|5.01\t|20|\n",
        "|T1\t|35.65\t|6.38\t|20|\n",
        "|T2\t|37.20\t|5.85\t|20|\n",
        "\n",
        "Significado prático:\n",
        "* O grupo Controle (C) apresenta a maior resposta média ajustada (≈47,2).\n",
        "* O grupo T1 apresenta a menor média (≈35,6).\n",
        "* O grupo T2 é intermediário, com média ≈37,2, próxima de T1.\n",
        "\n",
        "**🧠 Comparações qualitativas**\n",
        "\n",
        "Com base nesses valores:\n",
        "* A diferença C − T1 ≈ 11,6 e C − T2 ≈ 10,0 confirma os resultados anteriores da ANOVA e do modelo misto. Ambos os tratamentos reduzem significativamente a resposta média em relação ao controle.\n",
        "* A diferença T1 − T2 ≈ −1,55 é pequena, o que explica por que não foi significativa no teste de Tukey.\n",
        "\n",
        "**💡 Conclusão geral**\n",
        "* O Controle (C) mantém a resposta mais alta e significativamente diferente dos demais.\n",
        "* Os tratamentos T1 e T2 têm efeitos semelhantes entre si, ambos reduzindo a resposta.\n",
        "* As médias ajustadas reforçam a robustez do resultado obtido no modelo misto, mesmo controlando variação entre grupos, o padrão C > T1 ≈ T2 se mantém."
      ],
      "metadata": {
        "id": "WMuZg12vvUJ_"
      }
    },
    {
      "cell_type": "markdown",
      "source": [
        "# Contrastes manuais"
      ],
      "metadata": {
        "id": "YzIM698iynQv"
      }
    },
    {
      "cell_type": "code",
      "source": [
        "trat1_mean = means.loc[\"T1\", \"lsmean\"]\n",
        "trat2_mean = means.loc[\"T2\", \"lsmean\"]\n",
        "ctrl_mean = means.loc[\"C\", \"lsmean\"]\n",
        "diff = trat1_mean - ctrl_mean\n",
        "print(f\"\\nContraste T1 vs C = {diff:.3f}\")\n",
        "diff = trat2_mean - ctrl_mean\n",
        "print(f\"\\nContraste T2 vs C = {diff:.3f}\")\n",
        "diff = trat1_mean - trat2_mean\n",
        "print(f\"\\nContraste T1 vs T2 = {diff:.3f}\")"
      ],
      "metadata": {
        "id": "Ut6f40jiSfWM"
      },
      "execution_count": null,
      "outputs": []
    },
    {
      "cell_type": "markdown",
      "source": [
        "**📊 Resultados dos contrastes**\n",
        "\n",
        "|Comparação\t|Diferença (Contraste)|\tInterpretação|\n",
        "|:--|:--|:--|\n",
        "|T1 – C |= -11.55\t|O grupo T1 tem média 11,55 unidades menor que o grupo Controle (C).\t|\n",
        "|T2 – C |= -10.00\t|O grupo T2 tem média 10,00 unidades menor que o grupo Controle (C).\t|\n",
        "|T1 – T2 |= -1.55\t|O grupo T1 tem média 1,55 unidade menor que o grupo T2 — uma diferença pequena e provavelmente não significativa.\t|\n",
        "\n",
        "**🧠 Interpretação conceitual**\n",
        "\n",
        "* Tanto T1 quanto T2 apresentaram reduções significativas em relação ao controle (efeito negativo substancial).\n",
        "* As magnitudes das reduções são semelhantes (−11,55 e −10,00), sugerindo que ambos os tratamentos são eficazes em produzir o efeito observado (por exemplo, redução de uma variável fisiológica, de um marcador, etc.).\n",
        "* A diferença entre T1 e T2 é pequena e próxima de zero, indicando que os dois tratamentos têm efeitos comparáveis.\n",
        "\n",
        "**✅ Conclusão prática**\n",
        "\n",
        "* Há diferença significativa entre o controle e os tratamentos, confirmando o efeito do fator “tratamento”.\n",
        "* Não há diferença relevante entre T1 e T2, o que sugere que qualquer um dos dois tratamentos produz resultado semelhante."
      ],
      "metadata": {
        "id": "q_6Tax8_zCWT"
      }
    },
    {
      "cell_type": "markdown",
      "source": [
        "# Exemplo de ANOVA com fatores adicionais"
      ],
      "metadata": {
        "id": "n1tB_omjytpj"
      }
    },
    {
      "cell_type": "code",
      "source": [
        "modelo2 = smf.ols(\"y ~ C(rato) + C(tratamento) + C(rato_trt)\", data=dados).fit()\n",
        "anova2 = sm.stats.anova_lm(modelo2, typ=2)\n",
        "print(\"\\n=== ANOVA com fatores adicionais ===\")\n",
        "print(anova2)"
      ],
      "metadata": {
        "id": "yNrq2KeBSg8W"
      },
      "execution_count": null,
      "outputs": []
    },
    {
      "cell_type": "markdown",
      "source": [
        "**📊 Interpretação dos efeitos**\n",
        "|Fonte de variação\t|SQ |gl\t|F\t|p-valor\t|Interpretação|\n",
        "|:--|:--|:--|:--|:--|:--|\n",
        "|C(rato)\t|514.09\t|9\t|15.37\t|5.6×10⁻⁹\t|Diferenças significativas entre ratos, indicando que o desempenho dos animais varia consideravelmente.|\n",
        "|C(tratamento)\t|427.92\t|2\t|57.57\t|5.4×10⁻¹¹\t|Diferenças altamente significativas entre tratamentos, ou seja, os medicamentos influenciam a resposta.|\n",
        "|C(rato_trt)\t|18631.20\t|29\t|172.86\t|2.1×10⁻²⁶\t|Grande variação entre subamostras dentro de tratamento, possivelmente refletindo heterogeneidade interna (variação entre medições dentro de cada rato).|\n",
        "|Residual\t|111.50\t|30\t|—\t|—\t|Variação residual mínima após considerar os efeitos acima.|\n",
        "\n",
        "**🧠 Interpretação geral**\n",
        "\n",
        "* O fator tratamento apresenta efeito altamente significativo, confirmando que há diferenças reais entre os grupos experimentais.\n",
        "* O fator rato também é significativo, indicando efeito aleatório importante (animais diferem em sua resposta basal).\n",
        "* A variação dentro de cada rato_trt é muito grande, o que justifica a necessidade de um modelo hierárquico (ou misto) para modelar essa estrutura corretamente.\n",
        "\n",
        "**💬 Conclusão prática**\n",
        "\n",
        "O delineamento e a análise mostram que:\n",
        "* Há diferenças significativas entre os tratamentos aplicados.\n",
        "* Há também heterogeneidade entre os indivíduos (ratos), o que precisa ser controlado.\n",
        "* A subamostragem dentro de tratamento (rato_trt) contribui com grande parte da variabilidade total, reforçando que o modelo simples (ANOVA tradicional) subestima o erro experimental — e que o modelo misto (LME) é a abordagem estatística correta."
      ],
      "metadata": {
        "id": "EwaG9DpSwtz2"
      }
    }
  ]
}