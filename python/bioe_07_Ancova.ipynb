{
  "nbformat": 4,
  "nbformat_minor": 0,
  "metadata": {
    "colab": {
      "provenance": []
    },
    "kernelspec": {
      "name": "python3",
      "display_name": "Python 3"
    },
    "language_info": {
      "name": "python"
    }
  },
  "cells": [
    {
      "cell_type": "markdown",
      "source": [
        "# Curso: Bioestatística — Análise de Covariância\n",
        "## Autores: Sandro da Silva Camargo e Fernando Cardoso\n",
        "\n",
        "**Problema**: Testar a resposta de órgãos de animais à adição de hormônios.\n",
        "O abate por anestesia e usando a decapitação podem provocar respostas diferentes;\n",
        "Experimento feito em 2 grupos de ratos (mesma idade e sexo): 10 animais mortos por anestesia e 10 decapitados. Os corações foram colocados no soro e a força de contração medida (Y);\n",
        "* Y: Força de contração\n",
        "* $X_1$: Tratamento (Anestesia ou Decapitação)\n",
        "* $X_2$: Co-fator (Peso)\n",
        "\n",
        "A base de dados está disponível [aqui](https://github.com/Sandrocamargo/biostatistics/blob/master/datasets/ancova-ratos.txt).\n",
        "\n",
        "Abra este código no seu google colab [clicando aqui](https://colab.research.google.com/github/Sandrocamargo/biostatistics/blob/master/python/bioe_07_Ancova.ipynb)."
      ],
      "metadata": {
        "id": "ZYF2tc0QMtJ7"
      }
    },
    {
      "cell_type": "markdown",
      "source": [
        "* A ANCOVA (_Analysis of Covariance_) combina princípios da ANOVA (Análise de Variância) e da Regressão Linear.\n",
        "* Ela permite comparar as médias de um ou mais grupos (como na ANOVA), ajustando os resultados pelo efeito de uma ou mais covariáveis, isto é, variáveis contínuas que possam influenciar a variável dependente.\n",
        "* Em outras palavras, a ANCOVA \"remove\" o efeito de uma covariável para que a comparação entre grupos seja mais justa e precisa."
      ],
      "metadata": {
        "id": "SOkDpuXJAJ2e"
      }
    },
    {
      "cell_type": "markdown",
      "source": [
        "# Carga de pacotes"
      ],
      "metadata": {
        "id": "Yr0HdPbQM6lL"
      }
    },
    {
      "cell_type": "code",
      "execution_count": null,
      "metadata": {
        "id": "o45VJxRVJKlA"
      },
      "outputs": [],
      "source": [
        "!pip install pingouin\n",
        "import pandas as pd\n",
        "import matplotlib.pyplot as plt\n",
        "import seaborn as sns\n",
        "from scipy import stats\n",
        "import statsmodels.api as sm\n",
        "import statsmodels.formula.api as smf\n",
        "import pingouin as pg"
      ]
    },
    {
      "cell_type": "markdown",
      "source": [
        "# Carga e inspeção dos dados"
      ],
      "metadata": {
        "id": "KtHVje_OJhKN"
      }
    },
    {
      "cell_type": "code",
      "source": [
        "dados = pd.read_csv(\"https://raw.githubusercontent.com/Sandrocamargo/biostatistics/refs/heads/master/datasets/ancova-ratos.txt\", sep=\" \", decimal=\",\")\n",
        "dados['Trt'] = dados['Trt'].astype('category')\n",
        "dados.info()\n",
        "dados.head()"
      ],
      "metadata": {
        "id": "o_fzGANQJZ5q"
      },
      "execution_count": null,
      "outputs": []
    },
    {
      "cell_type": "markdown",
      "source": [
        "# Análise exploratória"
      ],
      "metadata": {
        "id": "AiWknglFKnRD"
      }
    },
    {
      "cell_type": "code",
      "source": [
        "# Correlação entre y e Peso\n",
        "corr = dados['y'].corr(dados['Peso'])\n",
        "print(f\"Correlação entre y e Peso: {corr:.4f}\")\n",
        "\n",
        "modelo = smf.ols(\"y ~ Peso\", data=dados).fit()\n",
        "sns.scatterplot(x='Peso', y='y', data=dados)\n",
        "plt.title(f\"Correlação: {corr:.4f}\")\n",
        "sns.lineplot(x=dados['Peso'], y=modelo.fittedvalues, color='red')\n",
        "plt.xlabel(\"Peso (kg)\")\n",
        "plt.ylabel(\"Força de Contração (Y)\")\n",
        "plt.show()\n",
        "\n",
        "print(modelo.summary())"
      ],
      "metadata": {
        "id": "6hzSo6t6Jbxw"
      },
      "execution_count": null,
      "outputs": []
    },
    {
      "cell_type": "markdown",
      "source": [
        "**📘 Qualidade geral do modelo**\n",
        "|Indicador\t|Valor\t|Interpretação|\n",
        "|:--|:--|:--|\n",
        "|R-squared |= 0.796\t|O modelo explica 79,6% da variação da variável dependente y. Isso é um valor alto, indicando um bom ajuste.\t|\n",
        "|Adj. R-squared |= 0.785\t|Corrige o R² pelo número de parâmetros — ainda muito bom, reforçando que o modelo é consistente.\t|\n",
        "|F-statistic |= 70.30 (p < 0.001)\t|Testa a hipótese de que o modelo (com a variável Peso) explica significativamente a variação em y. O valor de p < 0.001 indica que o modelo é altamente significativo.\t|\n",
        "\n",
        "**⚙️ Coeficientes do modelo**\n",
        "|Termo\t|Coef.\t|Interpretação|\n",
        "|:--|:--|:--|\n",
        "|Intercept |= 1.8359\t|Quando o Peso = 0, o valor esperado de y é 1.8359. (Interpretar apenas se fizer sentido no contexto. Se “Peso = 0” não é possível, o intercepto é apenas o ponto onde a reta intercepta o eixo y.)\t|\n",
        "|Peso |= 2.0466\t|Cada unidade adicional em Peso está associada a um aumento médio de 2.05 unidades em y, mantendo tudo o mais constante. O efeito é altamente significativo (p < 0.001).\t|\n",
        "\n",
        "**Intervalo de confiança (95%):**\n",
        "* Peso: [1.534, 2.559] → o verdadeiro valor do coeficiente tem 95% de probabilidade de estar nesse intervalo.\n",
        "* O intervalo não inclui zero, reforçando que o efeito de Peso é real e estatisticamente significativo.\n",
        "\n",
        "**🧪 Diagnósticos do modelo**\n",
        "|Estatística\t|Valor\t|Interpretação|\n",
        "|:--|:--|:--|\n",
        "|Omnibus |= 0.874, Prob = 0.646|\tNão há evidência de que os resíduos violem a normalidade.\t|\n",
        "|Jarque-Bera |= 0.088, Prob = 0.957\t|Confirma a normalidade dos resíduos.\t|\n",
        "|Durbin-Watson |= 2.079|\tIndica ausência de autocorrelação entre resíduos (valores próximos de 2 são ideais).\t|\n",
        "|Cond. No. |= 17.4\t|Valor baixo → não há multicolinearidade preocupante (em modelos com uma variável, isso já era esperado).\t|\n",
        "\n",
        "**🧾 Síntese interpretativa**\n",
        "\n",
        "* ✅ O modelo é estatisticamente significativo e explica cerca de 80% da variabilidade da variável dependente y.\n",
        "* ✅ A variável Peso tem forte influência positiva e significativa sobre y.\n",
        "* ✅ Os resíduos atendem aos principais pressupostos (normalidade, independência, homocedasticidade presumida).\n",
        "\n",
        "**📊 Resumo interpretativo**\n",
        "\n",
        "O modelo de regressão linear indicou que o peso tem efeito significativo sobre y (β = 2.05; p < 0.001), explicando aproximadamente 80% da variação observada. O diagnóstico de resíduos não revelou violações dos pressupostos de normalidade ou independência (Durbin-Watson = 2.08; p(JB) = 0.957)."
      ],
      "metadata": {
        "id": "kKzYNrpbDTkW"
      }
    },
    {
      "cell_type": "code",
      "source": [
        "# Boxplots\n",
        "sns.boxplot(x='Trt', y='y', data=dados)\n",
        "plt.title(\"Boxplot da Força de Contração (Y) por Tratamento\")\n",
        "plt.show()\n",
        "\n",
        "sns.boxplot(x='Trt', y='Peso', data=dados)\n",
        "plt.title(\"Boxplot do Peso por Tratamento\")\n",
        "plt.show()\n",
        "\n",
        "# Estatísticas descritivas\n",
        "print(\"\\nResumo de Y por grupo:\")\n",
        "print(dados.groupby('Trt', observed=False)['y'].describe())\n",
        "print(\"\\nResumo de Peso por grupo:\")\n",
        "print(dados.groupby('Trt', observed=False)['Peso'].describe())"
      ],
      "metadata": {
        "id": "CeBW1m2XLG7c"
      },
      "execution_count": null,
      "outputs": []
    },
    {
      "cell_type": "markdown",
      "source": [
        "**📊 Variável Y**\n",
        "|Grupo\t|n\t|Média Desvio padrão\t|Interpretação|\n",
        "|:--|:--|:--|:--|\n",
        "|Anestesiado\t|10\t|4,67 ± 0,33|\tResultados mais altos, pouca variabilidade.\t|\n",
        "|Decapitado\t|10\t|4,28 ± 0,29|\tResultados menores, também com baixa variabilidade.\t|\n",
        "\n",
        "* ➡️ Diferença de médias ≈ 0,39 unidades, com o grupo Anestesiado apresentando valores maiores de Y.\n",
        "* ➡️ As distribuições parecem relativamente homogêneas (desvios padrão próximos).\n",
        "\n",
        "**Interpretação:**\n",
        "O grupo Anestesiado apresentou valores significativamente maiores em média, o que pode indicar efeito do tratamento (a confirmar com teste estatístico, como ANOVA ou t-test).\n",
        "\n",
        "**⚖️ Variável Peso (covariável)**\n",
        "|Grupo\t|n\t|Média\tDesvio padrão|\tInterpretação|\n",
        "|:--|:--|:--|:--|\n",
        "|Anestesiado\t|10\t|1,410 ± 0,12\t|Peso médio mais alto.\t|\n",
        "|Decapitado\t|10\t|1,169 ± 0,075\t|Peso médio menor e menos variável.\t|\n",
        "\n",
        "* ➡️ Diferença de médias ≈ 0,24 unidades. O grupo Anestesiado tem indivíduos visivelmente mais pesados.\n",
        "\n",
        "**Interpretação:**\n",
        "* Se o peso influencia Y, essa diferença entre grupos pode confundir a comparação direta entre médias de Y.\n",
        "* Nessa situação, o ideal é ajustar Y pelo peso (por exemplo, realizando uma análise de covariância (ANCOVA)) para avaliar se o efeito do tratamento (Trt) sobre Y permanece significativo após controlar o efeito do peso.\n",
        "\n",
        "**🧾 Síntese interpretativa**\n",
        "\n",
        "* Há diferença média entre tratamentos tanto em Y quanto em Peso.\n",
        "* O grupo Anestesiado apresenta valores maiores em ambas as variáveis.\n",
        "* Para determinar se a diferença em Y é devida ao tratamento ou ao peso, deve-se aplicar uma ANCOVA (Y ~ Trt + Peso)."
      ],
      "metadata": {
        "id": "cM1_KD4nFeEW"
      }
    },
    {
      "cell_type": "markdown",
      "source": [
        "# Análise de covariância"
      ],
      "metadata": {
        "id": "9hNNxLaPMKqg"
      }
    },
    {
      "cell_type": "code",
      "source": [
        "ancova = pg.ancova(data=dados, dv='y', covar='Peso', between='Trt')\n",
        "print(\"\\n=== Resultado da ANCOVA ===\")\n",
        "print(ancova)"
      ],
      "metadata": {
        "id": "qYJSUs6XKKNF"
      },
      "execution_count": null,
      "outputs": []
    },
    {
      "cell_type": "markdown",
      "source": [
        "**Tratamento (Trt)**\n",
        "* F = 6.46 e p = 0.021 → o efeito do tratamento é estatisticamente significativo (p < 0.05).\n",
        "* Isso significa que, mesmo após controlar o efeito do peso, ainda há diferença significativa entre os grupos de tratamento quanto à variável dependente (ex: força de contração).\n",
        "* O eta quadrado parcial (η²p = 0.275) indica um efeito de tamanho moderado: aproximadamente 27,5% da variação ajustada pode ser atribuída ao tratamento.\n",
        "\n",
        "**Covariável (Peso)**\n",
        "* F = 62.75 e p < 0.000001 → o peso tem forte efeito sobre a variável dependente.\n",
        "* O eta quadrado parcial (η²p = 0.787) indica um efeito muito grande: cerca de 78,7% da variação ajustada está associada à covariável.\n",
        "\n",
        "**Resíduos**\n",
        "* Representam a variação não explicada pelo modelo.\n",
        "* Essa soma de quadrados (SS = 0.366) é relativamente pequena, o que reforça que o modelo explica bem os dados.\n",
        "\n",
        "**📈 Conclusão geral**\n",
        "* O peso tem forte influência sobre a variável resposta.\n",
        "* Mesmo controlando o peso, o tratamento ainda exerce um efeito significativo.\n",
        "* O modelo como um todo explica grande parte da variabilidade dos dados."
      ],
      "metadata": {
        "id": "mpg2R0KtNhIC"
      }
    },
    {
      "cell_type": "markdown",
      "source": [
        "# Ajuste de médias"
      ],
      "metadata": {
        "id": "-SWfh4slN_UI"
      }
    },
    {
      "cell_type": "code",
      "source": [
        "# Calcula médias ajustadas via modelo linear\n",
        "modelo_ancova = smf.ols('y ~ Peso + Trt', data=dados).fit()\n",
        "print(\"\\n=== Modelo ANCOVA ===\")\n",
        "print(modelo_ancova.summary())\n",
        "\n",
        "# Médias ajustadas por tratamento\n",
        "em_means = dados.copy()\n",
        "em_means['ajustado'] = modelo_ancova.fittedvalues\n",
        "print(\"\\nMédias ajustadas por tratamento:\")\n",
        "print(em_means.groupby('Trt', observed=False)['ajustado'].mean())"
      ],
      "metadata": {
        "id": "yziIJBAOKL0N"
      },
      "execution_count": null,
      "outputs": []
    },
    {
      "cell_type": "markdown",
      "source": [
        "**Qual o objetivo da análise?**\n",
        "* A ANCOVA busca verificar se há diferença entre os grupos de tratamento na variável y, controlando o efeito do peso.\n",
        "* Em outras palavras: queremos saber se o tratamento afeta y independentemente do peso dos animais.\n",
        "\n",
        "**📊 Qualidade geral do modelo**\n",
        "* R² = 0.852 → o modelo explica 85,2% da variação total em y, o que é excelente.\n",
        "* R² ajustado = 0.835 → mesmo considerando o número de preditores, o modelo mantém boa capacidade explicativa.\n",
        "* F(2,17) = 49.03, p = 8.72×10⁻⁸ → o modelo global é altamente significativo, ou seja, peso e tratamento, em conjunto, explicam de forma robusta a variação em y.\n",
        "\n",
        "**⚙️ Interpretação dos coeficientes**\n",
        "|Termo\t|Coef.\t|Interpretação|\n",
        "|:--|:--|:--|\n",
        "|Intercepto |= 0.8124\t|Valor esperado de y para o grupo Anestesiado, quando Peso = 0 (interpretação matemática, não biológica).\t|\n",
        "|Trt[T.Decapitado] = 0.2693, |p = 0.021\t|O grupo Decapitado apresenta, em média, +0.27 unidades maiores de y do que o grupo Anestesiado, ajustando o efeito do peso. Como p < 0.05, essa diferença é estatisticamente significativa.\t|\n",
        "|Peso = 2.7359, |p < 0.001\t|A cada aumento de 1 unidade de peso, há um acréscimo médio de 2.74 unidades em y, mantendo o tratamento constante. O efeito do peso é forte e altamente significativo.\t|\n",
        "\n",
        "**⚖️ Médias ajustadas (ANCOVA)**\n",
        "* As médias ajustadas representam os valores de y esperados para cada grupo de tratamento, corrigidos pelo efeito do peso.\n",
        "\n",
        "|Tratamento\t|Média ajustada de y|\n",
        "|:--|:--|\n",
        "|Anestesiado\t|4.67|\n",
        "|Decapitado\t|4.28|\n",
        "\n",
        "* ➡️ Embora o coeficiente positivo de “Decapitado” sugira maior valor inicial, após o ajuste pela covariável (peso), o grupo Anestesiado apresenta média ligeiramente maior (4.67 vs 4.28).\n",
        "\n",
        "* Isso indica que parte da diferença bruta entre grupos era explicada pelo peso  e, após o controle, a diferença se reduz.\n",
        "\n",
        "**📈 Pressupostos**\n",
        "* Durbin-Watson = 2.19 → ausência de autocorrelação dos resíduos (bom sinal).\n",
        "* Teste de normalidade (Omnibus, JB): p > 0.05 → resíduos aproximadamente normais.\n",
        "* Cond. No. = 31.5 → sem problemas sérios de multicolinearidade.\n",
        "\n",
        "**🧩 Conclusão**\n",
        "* O peso exerce forte influência sobre y.\n",
        "* O tratamento ainda tem efeito significativo mesmo após controlar o peso (p = 0.021).\n",
        "* O modelo ajustado explica muito bem os dados.\n",
        "* As médias ajustadas indicam pequenas diferenças entre os grupos, o que reforça a utilidade da ANCOVA: separar o efeito do tratamento do efeito da covariável."
      ],
      "metadata": {
        "id": "DZ-gh4ybPddM"
      }
    },
    {
      "cell_type": "markdown",
      "source": [
        "# Teste de pressupostos"
      ],
      "metadata": {
        "id": "qZH-wSZFOSfa"
      }
    },
    {
      "cell_type": "code",
      "source": [
        "# Normalidade dos resíduos\n",
        "residuos = modelo_ancova.resid\n",
        "print(\"\\nShapiro-Wilk para resíduos:\")\n",
        "print(stats.shapiro(residuos))\n",
        "\n",
        "sns.histplot(residuos, kde=True)\n",
        "plt.title(\"Histograma dos Resíduos\")\n",
        "plt.xlabel(\"Resíduos\")\n",
        "plt.show()\n",
        "\n",
        "# Homogeneidade de variâncias\n",
        "print(\"\\nBartlett test:\")\n",
        "print(stats.bartlett(*[dados.loc[dados.Trt == g, 'y'] for g in dados.Trt.unique()]))\n",
        "\n",
        "print(\"\\nLevene test:\")\n",
        "print(stats.levene(*[dados.loc[dados.Trt == g, 'y'] for g in dados.Trt.unique()]))\n",
        "\n",
        "sns.boxplot(x='Trt', y=residuos, data=dados)\n",
        "plt.title(\"Homogeneidade de variâncias dos resíduos por tratamento\")\n",
        "plt.show()"
      ],
      "metadata": {
        "id": "tLeTXrNdKNSj"
      },
      "execution_count": null,
      "outputs": []
    },
    {
      "cell_type": "markdown",
      "source": [
        "# Interação (homogeneidade dos coeficientes angulares)"
      ],
      "metadata": {
        "id": "UBzj6vrYG-WF"
      }
    },
    {
      "cell_type": "code",
      "source": [
        "modelo_interacao = smf.ols('y ~ Trt * Peso', data=dados).fit()\n",
        "anova_interacao = sm.stats.anova_lm(modelo_interacao, typ=3)\n",
        "print(\"\\n=== Teste de interação Tratamento*Peso ===\")\n",
        "print(anova_interacao)"
      ],
      "metadata": {
        "id": "7i57VG4nKOnw"
      },
      "execution_count": null,
      "outputs": []
    },
    {
      "cell_type": "markdown",
      "source": [
        "**Estrutura geral**\n",
        "\n",
        "O modelo testou o efeito do Tratamento (Trt), da covariável Peso e da interação entre ambos (Trt:Peso) sobre a variável dependente y.\n",
        "O objetivo é verificar:\n",
        "* se o tratamento tem efeito sobre y,\n",
        "* se o peso influencia y,\n",
        "* e se o efeito do tratamento depende do peso (interação).\n",
        "\n",
        "**Interpretação dos resultados**\n",
        "|Fonte|\tF\t|p (PR(>F))\t|Interpretação|\n",
        "|:--|:--|:--|:--|\n",
        "|Intercept\t|3.14\t|0.095\t|O intercepto não é estatisticamente diferente de zero (sem relevância prática isolada).|\n",
        "|Trt\t|0.19\t|0.665\t|O tratamento não tem efeito significativo sobre y após controlar pelo peso.|\n",
        "|Peso\t|38.86\t|< 0.001\t|O peso tem forte efeito significativo sobre y. À medida que o peso aumenta, y também tende a aumentar.|\n",
        "|Trt:Peso|\t0.52\t|0.480\t|A interação não é significativa. O efeito do peso sobre y é semelhante entre os tratamentos.|\n",
        "|Residual\t|—\t|—\t|Variabilidade não explicada pelo modelo.|\n",
        "\n",
        "**Conclusão prática**\n",
        "* O peso é a principal variável associada a y (efeito forte e significativo).\n",
        "* O tratamento, por si só, não altera significativamente o valor de y.\n",
        "* A relação entre peso e y é paralela entre os grupos (sem interação significativa).\n",
        "* Portanto, um modelo sem interação (modelo aditivo) é mais parcimonioso e apropriado."
      ],
      "metadata": {
        "id": "qDuvapObSGPs"
      }
    },
    {
      "cell_type": "markdown",
      "source": [
        "# Regressões separadas por grupo"
      ],
      "metadata": {
        "id": "9HDEkEVYKzDs"
      }
    },
    {
      "cell_type": "code",
      "source": [
        "plt.figure()\n",
        "cores = sns.color_palette(\"Set2\", n_colors=len(dados.Trt.cat.categories))\n",
        "for i, trt in enumerate(dados.Trt.cat.categories):\n",
        "    subset = dados[dados.Trt == trt]\n",
        "    sns.scatterplot(x='Peso', y='y', data=subset, color=cores[i], label=trt)\n",
        "    modelo = smf.ols('y ~ Peso', data=subset).fit()\n",
        "    plt.plot(subset['Peso'], modelo.fittedvalues, color=cores[i])\n",
        "plt.legend()\n",
        "plt.title(\"Regressões lineares por tratamento\")\n",
        "plt.xlabel(\"Peso (kg)\")\n",
        "plt.ylabel(\"Força de Contração (Y)\")\n",
        "plt.show()"
      ],
      "metadata": {
        "id": "gU2zJ5z4KQyQ"
      },
      "execution_count": null,
      "outputs": []
    }
  ]
}