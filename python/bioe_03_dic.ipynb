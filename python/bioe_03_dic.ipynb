{
  "nbformat": 4,
  "nbformat_minor": 0,
  "metadata": {
    "colab": {
      "provenance": []
    },
    "kernelspec": {
      "name": "python3",
      "display_name": "Python 3"
    },
    "language_info": {
      "name": "python"
    }
  },
  "cells": [
    {
      "cell_type": "markdown",
      "source": [
        "# Curso: Bioestatística — DIC (Delineamento Inteiramente Casualizado)\n",
        "### Autores: Sandro da Silva Camargo e Fernando Cardoso\n",
        "\n",
        "Problema: Com o objetivo de verificar se a tiroxina (hormônio) ajuda a produzir maior pelo em chinchila, amostrados na linha dorsal, utilizou-se três grupos amostrais:\n",
        "*  A: Controle, com ração usual;\n",
        "*  B: Ração com tiroxina em nı́vel X;\n",
        "*  C: Ração com tiroxina em nı́vel 2X;\n",
        "\n",
        "Dispunha-se de 30 machos nascidos na mesma semana e que\n",
        "ficam em gaiolas individuais. Assim:\n",
        "*  Foram sorteados, ao acaso, 10 animais para cada grupo\n",
        "(tratamento);\n",
        "*  Após seis meses, foram medidos os pelos em cm na linha\n",
        "dorsal, onde a UE é cada animal.\n",
        "\n",
        "A base de dados está disponível [aqui](https://raw.githubusercontent.com/Sandrocamargo/biostatistics/refs/heads/master/datasets/dic-dados.txt).\n",
        "\n",
        "\n",
        "Abra este código no seu google colab clicando [aqui](http://colab.research.google.com/github/Sandrocamargo/biostatistics/blob/master/python/bioe_03_dic.ipynb)."
      ],
      "metadata": {
        "id": "qO7K1027hRYB"
      }
    },
    {
      "cell_type": "code",
      "execution_count": null,
      "metadata": {
        "id": "HIgv5x9Aekl0"
      },
      "outputs": [],
      "source": [
        "# Carregando bibliotecas\n",
        "import os\n",
        "import numpy as np\n",
        "import pandas as pd\n",
        "import matplotlib.pyplot as plt\n",
        "\n",
        "from scipy import stats\n",
        "import statsmodels.api as sm\n",
        "import statsmodels.formula.api as smf\n",
        "from statsmodels.stats.anova import anova_lm\n",
        "from statsmodels.stats.multicomp import pairwise_tukeyhsd, MultiComparison\n",
        "from statsmodels.stats.stattools import durbin_watson\n",
        "from statsmodels.stats.multitest import multipletests"
      ]
    },
    {
      "cell_type": "markdown",
      "source": [
        "## Leitura e Preparação dos dados\n",
        "\n",
        "Esta fase envolve:\n",
        "\n",
        "\n",
        "*   Carregar a base de dados para uma variável\n",
        "*   Definir os nomes das colunas, se necessário\n",
        "*   Definir as colunas tratamento e repetição como categóricas\n",
        "*   A base de dados deve ter 3 colunas: Tratamento, Repetição e Y (Variável Resposta)\n",
        "\n"
      ],
      "metadata": {
        "id": "gdsXlu_opL2b"
      }
    },
    {
      "cell_type": "code",
      "source": [
        "!mkdir images\n",
        "data = pd.read_csv(\"https://raw.githubusercontent.com/Sandrocamargo/biostatistics/refs/heads/master/datasets/dic-dados.txt\", sep=\"\\t\", decimal=\",\", header=0)\n",
        "\n",
        "# Renomear colunas 1 e 2 para Treatment e Repeat\n",
        "data = data.rename(columns={data.columns[0]: \"Treatment\", data.columns[1]: \"Repeat\"})\n",
        "\n",
        "# Recodificar tratamentos\n",
        "map_trt = {\"A\": \"CTRL\", \"B\": \"T1X\", \"C\": \"T2X\"}\n",
        "data[\"Treatment\"] = data[\"Treatment\"].replace(map_trt)\n",
        "\n",
        "# Garantir tipos categóricos\n",
        "data[\"Repeat\"] = data[\"Repeat\"].astype(\"category\")\n",
        "data[\"Treatment\"] = data[\"Treatment\"].astype(\"category\")\n",
        "\n",
        "# Mostra estrutura dos dados carregados\n",
        "print(data.info())"
      ],
      "metadata": {
        "id": "vARRO8l2f0NR"
      },
      "execution_count": null,
      "outputs": []
    },
    {
      "cell_type": "code",
      "source": [
        "# =========================\n",
        "# ANOVA (one-way)\n",
        "# =========================\n",
        "\n",
        "model = smf.ols(\"Y ~ C(Treatment)\", data=data).fit()\n",
        "print(model.summary())\n",
        "anova_table = anova_lm(model, typ=2)\n",
        "print(\"\\nANOVA (Type II):\\n\", anova_table)"
      ],
      "metadata": {
        "id": "C9_NUzSXf6nx"
      },
      "execution_count": null,
      "outputs": []
    },
    {
      "cell_type": "markdown",
      "source": [
        "Interpretação:\n",
        "1. Qualidade geral do modelo\n",
        "*   $R^2$ = 0,759, ou seja, 75,9% da variação da variável dependente (Y) é explicada pelos tratamentos.\n",
        "*   $R^2$ ajustado = 0,739, ou seja, mesmo considerando o número de preditores, o modelo mantém boa qualidade de ajuste.\n",
        "*   F-statistic = 37,78, p < 0,0001, ou seja, o modelo como um todo é estatisticamente significativo, ou seja, pelo menos um dos grupos de tratamento tem média significativamente diferente dos demais.\n",
        "\n",
        "2. ANOVA\n",
        "*   A soma de quadrados para o fator C(Treatment) é muito maior que a dos resíduos, mostrando forte efeito dos tratamentos.\n",
        "*   p < 0,0001, ou seja, rejeitamos $H_0$ de igualdade das médias → há diferença significativa entre os grupos de tratamento.\n",
        "\n",
        "\n",
        "3. Coeficientes\n",
        "*   O Intercept representa a média do grupo de referência (CTRL): ≈ 2,48.\n",
        "*   O grupo T1X tem média 0,96 unidades maior que o grupo de referência (diferença estatisticamente significativa).\n",
        "*   O grupo T2X tem média 1,35 unidades maior que o grupo de referência (também altamente significativo).\n",
        "*   Ambos os intervalos de confiança não incluem zero → reforça que os efeitos são positivos e reais.\n",
        "\n",
        "**Podemos concluir que os dois tratamentos testados aumentaram significativamente a variável resposta em relação ao controle, sendo T2X o mais eficaz.**\n",
        "\n",
        "Se o objetivo for reportar para um artigo, você pode escrever algo como:\n",
        "*\"A ANOVA indicou efeito significativo do fator Tratamento sobre Y (F(2,24)=37,78, p$<$0,0001). Comparado ao grupo controle, T1X apresentou aumento médio de 0,96 (IC 95%: 0,62-1,30; p$<$0,001) e T2X aumento médio de 1,35 (IC 95%: 1,02-1,69; p$<$0,001), indicando maior efeito de T2X.\"*"
      ],
      "metadata": {
        "id": "mgPgQBtZsfwi"
      }
    },
    {
      "cell_type": "code",
      "source": [
        "# =========================\n",
        "# Totais por tratamento\n",
        "# =========================\n",
        "\n",
        "gb = data.groupby(\"Treatment\", observed=False)[\"Y\"]\n",
        "Length = gb.size()\n",
        "Mean = gb.mean()\n",
        "Sum = gb.sum()\n",
        "\n",
        "# Soma dos quadrados \"crus\" por tratamento (equivalente a rMR::sumsq)\n",
        "Sum_Squares = gb.apply(lambda x: np.sum(np.square(x)))\n",
        "totais = pd.DataFrame({\"Length\": Length, \"Sum\": Sum, \"Sum_Squares\": Sum_Squares, \"Mean\": Mean})\n",
        "print(\"\\nTotais por tratamento:\\n\", totais)"
      ],
      "metadata": {
        "id": "rN9d6X3nf9Iq"
      },
      "execution_count": null,
      "outputs": []
    },
    {
      "cell_type": "markdown",
      "source": [
        "Interpretação Estatística:\n",
        "*   Grupo Controle (CTRL) tem média 2,48 - serve como referência.\n",
        "*   T1X tem média 3,44, cerca de +0,96 maior que CTRL.\n",
        "*   T2X tem média 3,83, cerca de +1,35 maior que CTRL.\n",
        "\n",
        "Esses valores são coerentes com o resultado anterior da regressão/ANOVA, que mostrou diferenças significativas para ambos os tratamentos em relação ao grupo controle.\n",
        "\n",
        "Análise de Tendência\n",
        "*   Existe uma tendência crescente de CTRL → T1X → T2X, sugerindo que os tratamentos têm efeito positivo incremental.\n",
        "*   O ganho de T2X sobre T1X é de aproximadamente 0,39 (3,83 - 3,44). Para confirmar se essa diferença é estatisticamente significativa, seria necessário um pós-teste de comparações múltiplas (ex.: Tukey HSD).\n",
        "\n",
        "Conclusão\n",
        "*   CTRL apresenta o menor valor médio, como esperado.\n",
        "*   T1X e T2X aumentam significativamente o valor de Y.\n",
        "*   Há evidência de que T2X é mais eficaz que T1X, mas é preciso teste estatístico para confirmar se a diferença entre os dois é estatisticamente relevante."
      ],
      "metadata": {
        "id": "uD31PW0svaqF"
      }
    },
    {
      "cell_type": "code",
      "source": [
        "# =========================\n",
        "# t-tests dois a dois (Welch)\n",
        "# =========================\n",
        "\n",
        "def ttest_2grupos(df, g1, g2):\n",
        "    y1 = df.loc[df[\"Treatment\"] == g1, \"Y\"].values\n",
        "    y2 = df.loc[df[\"Treatment\"] == g2, \"Y\"].values\n",
        "    res = stats.ttest_ind(y1, y2, equal_var=False)\n",
        "    return {\n",
        "        \"Comparação\": f\"{g1} vs {g2}\",\n",
        "        \"t\": res.statistic,\n",
        "        \"p-valor\": res.pvalue,\n",
        "        \"n1\": len(y1),\n",
        "        \"n2\": len(y2),\n",
        "        \"Média 1\": y1.mean(),\n",
        "        \"Média 2\": y2.mean(),\n",
        "        \"Significância\": \"✅ p<0.05\" if res.pvalue < 0.05 else \"❌ ns\"\n",
        "    }\n",
        "\n",
        "resultados = [ttest_2grupos(data, g1, g2) for g1, g2 in [(\"CTRL\",\"T1X\"), (\"CTRL\",\"T2X\"), (\"T1X\",\"T2X\")]]\n",
        "df_resultados = pd.DataFrame(resultados)\n",
        "\n",
        "print(\"\\n📊 Testes t de Welch - Comparações Par a Par\")\n",
        "print(df_resultados.to_string(index=False, float_format=\"%.4f\"))"
      ],
      "metadata": {
        "id": "Rs-JB1Rdf_0u"
      },
      "execution_count": null,
      "outputs": []
    },
    {
      "cell_type": "markdown",
      "source": [
        "Análise crítica:\n",
        "*   As duas comparações com CTRL são altamente significativas (p < 0.001), confirmando que ambos os tratamentos aumentaram de forma clara a variável resposta em relação ao controle.\n",
        "*   T2X apresenta um efeito maior que T1X (t mais negativo, diferença média maior), mas a comparação direta entre eles não atinge significância a 5%, embora esteja perto do limiar (p ≈ 0.07).\n",
        "*   Isso pode indicar que:\n",
        "*   - O efeito de T2X realmente é maior que o de T1X, mas é preciso mais poder estatístico (amostra maior) para confirmar.\n",
        "*   - Ou que a diferença entre os tratamentos é pequena e não clinicamente relevante.\n",
        "\n",
        "Conclusão: Os resultados sugerem:\n",
        "*   Efeito positivo significativo dos tratamentos T1X e T2X em relação ao controle.\n",
        "*   Possível diferença entre T1X e T2X, mas não estatisticamente confirmada com o tamanho de amostra atual (8 e 9 observações, respectivamente).\n",
        "\n",
        "Próximo passo: Se a diferença entre T1X e T2X for de interesse, considere:\n",
        "*   Aumentar o tamanho da amostra para ganhar poder estatístico.\n",
        "*   Calcular intervalos de confiança das médias para melhor visualizar a sobreposição."
      ],
      "metadata": {
        "id": "i7gqH8Bs0GtI"
      }
    },
    {
      "cell_type": "code",
      "source": [
        "# =========================\n",
        "# Tukey HSD\n",
        "# =========================\n",
        "mc = MultiComparison(data[\"Y\"], data[\"Treatment\"])\n",
        "tukey = mc.tukeyhsd(alpha=0.05)\n",
        "print(\"\\nTukey HSD:\\n\", tukey.summary())\n",
        "\n",
        "# Gráfico do Tukey (simultaneous CIs)\n",
        "fig = tukey.plot_simultaneous()\n",
        "plt.title(\"Tukey HSD - Intervalos simultâneos (95%)\")\n",
        "plt.xlabel(\"Diferença de médias\")\n",
        "plt.savefig(\"images/dic-tukey.png\", dpi=150, bbox_inches=\"tight\")\n",
        "plt.show()\n",
        "\n",
        "# Boxplot Y ~ Treatment\n",
        "ax = data.boxplot(column=\"Y\", by=\"Treatment\")\n",
        "plt.title(\"Chinchilla Fur Length x Treatment\")\n",
        "plt.suptitle(\"\")\n",
        "plt.xlabel(\"Treatments\")\n",
        "plt.ylabel(\"Chinchilla Fur Length (cm)\")\n",
        "plt.savefig(\"images/dic-tratamentos.png\", dpi=150, bbox_inches=\"tight\")\n",
        "plt.show()"
      ],
      "metadata": {
        "id": "RmcX-u1KgCbR"
      },
      "execution_count": null,
      "outputs": []
    },
    {
      "cell_type": "code",
      "source": [
        "# =========================\n",
        "# Pressupostos da ANOVA\n",
        "# =========================\n",
        "resid = model.resid\n",
        "\n",
        "# Shapiro-Wilk para normalidade dos resíduos\n",
        "shapiro_stat, shapiro_p = stats.shapiro(resid)\n",
        "print(f\"\\nShapiro-Wilk: W={shapiro_stat:.4f}, p-value={shapiro_p:.4g}\")\n",
        "\n",
        "# Histograma dos resíduos\n",
        "plt.hist(resid, bins=\"auto\")\n",
        "plt.title(\"Errors Histogram\")\n",
        "plt.xlabel(\"Errors\")\n",
        "plt.savefig(\"images/dic-errorshistogram.png\", dpi=150, bbox_inches=\"tight\")\n",
        "plt.show()\n",
        "\n",
        "# Bartlett (homogeneidade de variâncias)\n",
        "groups = [data.loc[data[\"Treatment\"] == g, \"Y\"].values for g in data[\"Treatment\"].cat.categories]\n",
        "bart_stat, bart_p = stats.bartlett(*groups)\n",
        "print(f\"\\nBartlett: K^2={bart_stat:.4f}, p-value={bart_p:.4g}\")\n",
        "\n",
        "# Boxplot dos resíduos por tratamento\n",
        "res_df = pd.DataFrame({\"Residuals\": resid, \"Treatment\": data[\"Treatment\"].values})\n",
        "ax = res_df.boxplot(column=\"Residuals\", by=\"Treatment\")\n",
        "plt.title(\"Homogeneity of Errors\")\n",
        "plt.suptitle(\"\")\n",
        "plt.xlabel(\"Treatments\"); plt.ylabel(\"Errors\")\n",
        "plt.savefig(\"images/dic-homogeneityErrors.png\", dpi=150, bbox_inches=\"tight\")\n",
        "plt.show()\n",
        "\n",
        "# Levene (média e mediana como centros)\n",
        "lev_mean = stats.levene(*groups, center=\"mean\")\n",
        "lev_median = stats.levene(*groups, center=\"median\")\n",
        "print(f\"\\nLevene (center=mean): stat={lev_mean.statistic:.4f}, p={lev_mean.pvalue:.4g}\")\n",
        "print(f\"Levene (center=median): stat={lev_median.statistic:.4f}, p={lev_median.pvalue:.4g}\")\n",
        "\n",
        "# Independência (Durbin-Watson)\n",
        "dw = durbin_watson(resid)\n",
        "print(f\"\\nDurbin-Watson dos resíduos: {dw:.4f}\")\n",
        "\n",
        "# Dispersão dos resíduos em ordem amostral\n",
        "plt.plot(resid, \"o\")\n",
        "plt.axhline(0, linestyle=\"--\")\n",
        "plt.title(\"Errors Independence\")\n",
        "plt.xlabel(\"Samples\"); plt.ylabel(\"Residuals\")\n",
        "plt.savefig(\"images/dic-errorsindependence.png\", dpi=150, bbox_inches=\"tight\")\n",
        "plt.show()\n",
        "\n",
        "# QQ-plot (ajuste do modelo)\n",
        "sm.qqplot(resid, line=\"45\")\n",
        "plt.title(\"Q-Q Plot dos resíduos\")\n",
        "plt.savefig(\"images/dic-qqplot.png\", dpi=150, bbox_inches=\"tight\")\n",
        "plt.show()"
      ],
      "metadata": {
        "id": "cwaXAIzNgEnx"
      },
      "execution_count": null,
      "outputs": []
    },
    {
      "cell_type": "code",
      "source": [
        "# =========================\n",
        "# Contrastes lineares (F-test)\n",
        "# Equivalente aos contrastes do gmodels:\n",
        "#   1) \" CTRL vs (T1X + T2X) \" = [2, -1, -1]\n",
        "#   2) \" T1X vs T2X \"         = [0,  1, -1]\n",
        "# Usamos um modelo sem intercepto para que os coeficientes = médias por tratamento.\n",
        "# =========================\n",
        "model_means = smf.ols(\"Y ~ 0 + C(Treatment)\", data=data).fit()\n",
        "print(\"\\nModelo de médias (sem intercepto):\\n\", model_means.summary())\n",
        "\n",
        "L = np.array([\n",
        "    [ 2, -1, -1],  # CTRL vs (T1X + T2X)\n",
        "    [ 0,  1, -1],  # T1X vs T2X\n",
        "], dtype=float)\n",
        "\n",
        "# As colunas de L devem seguir a ordem das categorias em model_means.params\n",
        "# Obter a ordem correta dos coeficientes:\n",
        "coef_names = list(model_means.params.index)  # ex.: ['C(Treatment)[CTRL]','C(Treatment)[T1X]','C(Treatment)[T2X]']\n",
        "# Mapear para ordem CTRL, T1X, T2X\n",
        "order = []\n",
        "for label in [\"CTRL\", \"T1X\", \"T2X\"]:\n",
        "    name = [c for c in coef_names if c.endswith(f\"[{label}]\")][0]\n",
        "    order.append(coef_names.index(name))\n",
        "P = np.eye(len(coef_names))[:, order]  # permutação para alinhar colunas\n",
        "\n",
        "L_aligned = L @ P.T\n",
        "\n",
        "# F-test conjunto (duas hipóteses ao mesmo tempo)\n",
        "f_res = model_means.f_test(L_aligned)\n",
        "print(\"\\nContrastes (F-test conjunto):\")\n",
        "print(f_res)\n",
        "\n",
        "# Testes individuais (t/F por contraste)\n",
        "labels = [\" CTRL vs (T1X + T2X) \", \" T1X vs T2X \"]\n",
        "for i, lab in enumerate(labels):\n",
        "    print(f\"\\nContraste: {lab}\")\n",
        "    print(model_means.t_test(L_aligned[i, :]))"
      ],
      "metadata": {
        "id": "qsH-iI6EgH3p"
      },
      "execution_count": null,
      "outputs": []
    },
    {
      "cell_type": "code",
      "source": [
        "# =========================\n",
        "# Modelo de regressão linear com fator (igual ao lm do R)\n",
        "# =========================\n",
        "model_lm = smf.ols(\"Y ~ C(Treatment)\", data=data).fit()\n",
        "print(\"\\nANOVA do modelo lm:\\n\", anova_lm(model_lm, typ=2))\n",
        "print(\"\\nResumo do modelo lm:\\n\", model_lm.summary())"
      ],
      "metadata": {
        "id": "rcL5kE5BgMCM"
      },
      "execution_count": null,
      "outputs": []
    },
    {
      "cell_type": "code",
      "source": [
        "# =========================\n",
        "# Comparações múltiplas adicionais\n",
        "# - Bonferroni (equivalente a LSD.test com p.adjust='bonferroni')\n",
        "# - Dunnett (CTRL vs outros): não há função nativa pronta no statsmodels; abaixo\n",
        "#   fazemos testes CTRL vs cada grupo com ajuste de p (Holm), que é mais potente que Bonferroni.\n",
        "# =========================\n",
        "# Pairwise t-tests com ajuste Bonferroni\n",
        "pairs = [(\"CTRL\",\"T1X\"), (\"CTRL\",\"T2X\"), (\"T1X\",\"T2X\")]\n",
        "pvals = []\n",
        "tvals = []\n",
        "for g1, g2 in pairs:\n",
        "    y1 = data.loc[data[\"Treatment\"] == g1, \"Y\"].values\n",
        "    y2 = data.loc[data[\"Treatment\"] == g2, \"Y\"].values\n",
        "    t_stat, p_raw = stats.ttest_ind(y1, y2, equal_var=False)\n",
        "    tvals.append(t_stat); pvals.append(p_raw)\n",
        "\n",
        "rej, p_adj, _, _ = multipletests(pvals, alpha=0.05, method=\"bonferroni\")\n",
        "bonf_results = pd.DataFrame({\n",
        "    \"pair\": [f\"{a} vs {b}\" for a,b in pairs],\n",
        "    \"t\": tvals,\n",
        "    \"p_raw\": pvals,\n",
        "    \"p_bonferroni\": p_adj,\n",
        "    \"reject_H0_0.05\": rej\n",
        "})\n",
        "print(\"\\nPairwise t-tests com ajuste Bonferroni:\\n\", bonf_results)\n",
        "\n",
        "# \"Dunnett-like\": CTRL vs demais com ajuste Holm (mais potente que Bonferroni).\n",
        "ctrl = \"CTRL\"\n",
        "compares = [g for g in data[\"Treatment\"].cat.categories if g != ctrl]\n",
        "pvals_d = []\n",
        "tvals_d = []\n",
        "labels_d = []\n",
        "for g in compares:\n",
        "    y1 = data.loc[data[\"Treatment\"] == ctrl, \"Y\"].values\n",
        "    y2 = data.loc[data[\"Treatment\"] == g, \"Y\"].values\n",
        "    t_stat, p_raw = stats.ttest_ind(y1, y2, equal_var=False)\n",
        "    pvals_d.append(p_raw); tvals_d.append(t_stat); labels_d.append(f\"{ctrl} vs {g}\")\n",
        "\n",
        "rej_holm, p_holm, _, _ = multipletests(pvals_d, alpha=0.05, method=\"holm\")\n",
        "dunnett_like = pd.DataFrame({\n",
        "    \"comparação\": labels_d,\n",
        "    \"t\": tvals_d,\n",
        "    \"p_raw\": pvals_d,\n",
        "    \"p_Holm\": p_holm,\n",
        "    \"reject_H0_0.05\": rej_holm\n",
        "})\n",
        "print(\"\\nComparações 'Dunnett-like' (CTRL vs outros; ajuste Holm):\\n\", dunnett_like)"
      ],
      "metadata": {
        "id": "2a4n6Ez8gN8i"
      },
      "execution_count": null,
      "outputs": []
    },
    {
      "cell_type": "code",
      "source": [
        "# =========================\n",
        "# Agrupamento por letras (similar ao bar.group do agricolae a partir de Tukey)\n",
        "# =========================\n",
        "def cld_from_tukey(tukey_res):\n",
        "    \"\"\"\n",
        "    Gera agrupamento por letras (Compact Letter Display) a partir do resultado do Tukey.\n",
        "    Estratégia gulosa simples: garante que grupos que NÃO diferem compartilhem alguma letra.\n",
        "    \"\"\"\n",
        "    groups = sorted(set(tukey_res.groupsunique))\n",
        "    # matriz de diferenças significativas\n",
        "    sig = { (min(a,b), max(a,b)): rej for a,b,meandiff,p,low,high,rej in tukey_res._results_table.data[1:] }\n",
        "\n",
        "    letters = {g: \"\" for g in groups}\n",
        "    current_letter = \"A\"\n",
        "    remaining = set(groups)\n",
        "\n",
        "    while remaining:\n",
        "        g = sorted(remaining)[0]\n",
        "        # todos que não diferem de g ainda não rotulados para esta letra\n",
        "        same = [g]\n",
        "        for h in sorted(remaining - {g}):\n",
        "            key = (min(g,h), max(g,h))\n",
        "            if not sig.get(key, False):  # False => não rejeita H0 => sem diferença\n",
        "                # checar se h é diferente de algum já em 'same'\n",
        "                ok = True\n",
        "                for s in same:\n",
        "                    k2 = (min(h,s), max(h,s))\n",
        "                    if sig.get(k2, False):  # diferença significativa entre h e s\n",
        "                        ok = False; break\n",
        "                if ok:\n",
        "                    same.append(h)\n",
        "        # atribuir letra atual a todos em 'same'\n",
        "        for s in same:\n",
        "            letters[s] += current_letter\n",
        "        remaining -= set(same)\n",
        "        # próxima letra\n",
        "        current_letter = chr(ord(current_letter) + 1)\n",
        "\n",
        "    return pd.DataFrame({\"Treatment\": list(letters.keys()), \"Group\": list(letters.values())}).sort_values(\"Treatment\")\n",
        "\n",
        "cld = cld_from_tukey(tukey)\n",
        "print(\"\\nAgrupamento por letras (Tukey):\\n\", cld)\n",
        "\n",
        "# (Opcional) Barras com letras\n",
        "means = gb.mean().reset_index()\n",
        "merged = means.merge(cld, on=\"Treatment\")\n",
        "plt.bar(merged[\"Treatment\"], merged[\"Y\"])\n",
        "for i, (x, y, lab) in enumerate(zip(merged[\"Treatment\"], merged[\"Y\"], merged[\"Group\"])):\n",
        "    plt.text(i, y * 1.01, lab, ha=\"center\", va=\"bottom\")\n",
        "plt.ylim(0, merged[\"Y\"].max()*1.1)\n",
        "plt.title(\"Tukey Test — Agrupamento por letras\")\n",
        "plt.xlabel(\"Treatments\"); plt.ylabel(\"Mean of Y\")\n",
        "plt.savefig(\"images/dic-tukeytestgroups.png\", dpi=150, bbox_inches=\"tight\")\n",
        "plt.show()\n",
        "\n",
        "# =========================\n",
        "# Observações sobre testes não implementados\n",
        "# =========================\n",
        "# - Duncan, SNK, Scheffé e Scott-Knott não estão implementados em statsmodels.\n",
        "#   Em Python, a prática usual é usar Tukey HSD (como acima) e/ou ajustar p-values\n",
        "#   em testes pareados (Bonferroni, Holm, BH). Implementações fiéis a Duncan/SNK/\n",
        "#   Scheffé/Scott-Knott exigem rotinas específicas (não padronizadas) ou pacotes R.\n"
      ],
      "metadata": {
        "id": "0u0DQa62jFGE"
      },
      "execution_count": null,
      "outputs": []
    }
  ]
}