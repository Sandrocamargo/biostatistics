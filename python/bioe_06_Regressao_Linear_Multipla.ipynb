{
  "nbformat": 4,
  "nbformat_minor": 0,
  "metadata": {
    "colab": {
      "provenance": []
    },
    "kernelspec": {
      "name": "python3",
      "display_name": "Python 3"
    },
    "language_info": {
      "name": "python"
    }
  },
  "cells": [
    {
      "cell_type": "markdown",
      "source": [
        "# Curso: Bioestatística — Experimento de Regressão Linear Múltipla\n",
        "## Autores: Sandro da Silva Camargo e Fernando Cardoso\n",
        "\n",
        "**Problema**:Um experimento foi realizado para testar o efeito\n",
        "das Variáveis independentes, temperatura média do perı́odo (ºC),\n",
        "precipitação média (mm), pragas (insetos/dm2 ) e densidade\n",
        "(plantas/m2 ), na Variável resposta: produção estacional de matéria seca (MS)\n",
        "(ton/ha).\n",
        "\n",
        "A base de dados está disponível [aqui](https://github.com/Sandrocamargo/biostatistics/blob/master/datasets/rl-rlm.txt).\n",
        "\n",
        "Abra este código no seu google colab [clicando aqui](https://colab.research.google.com/github/Sandrocamargo/biostatistics/blob/master/python/bioe_06_Regressao_Linear_Multipla.ipynb)."
      ],
      "metadata": {
        "id": "TqHxvkLn9WeD"
      }
    },
    {
      "cell_type": "markdown",
      "source": [
        "# Importação de bibliotecas"
      ],
      "metadata": {
        "id": "WsE3XOdp_87G"
      }
    },
    {
      "cell_type": "code",
      "execution_count": null,
      "metadata": {
        "id": "q61D7qcKLCBj"
      },
      "outputs": [],
      "source": [
        "import pandas as pd\n",
        "import statsmodels.api as sm\n",
        "import statsmodels.formula.api as smf\n",
        "import matplotlib.pyplot as plt\n",
        "from mlxtend.feature_selection import SequentialFeatureSelector as SFS\n",
        "from sklearn.linear_model import LinearRegression"
      ]
    },
    {
      "cell_type": "markdown",
      "source": [
        "# Carga e inspeção dos dados"
      ],
      "metadata": {
        "id": "8Kk41Pik_TxY"
      }
    },
    {
      "cell_type": "code",
      "source": [
        "dados = pd.read_csv(\"https://raw.githubusercontent.com/Sandrocamargo/biostatistics/refs/heads/master/datasets/rl-rlm.txt\", sep=\"\\t\", header=0)\n",
        "dados.info()\n",
        "dados.head()"
      ],
      "metadata": {
        "id": "tr9Pj-7ULI1n"
      },
      "execution_count": null,
      "outputs": []
    },
    {
      "cell_type": "markdown",
      "source": [
        "# Ajuste do modelo de regressão linear múltipla"
      ],
      "metadata": {
        "id": "Wojp2oM7-Y0X"
      }
    },
    {
      "cell_type": "code",
      "source": [
        "# === 2. Modelo completo ===\n",
        "modelo = smf.ols(\"ms ~ temp + prec + prag + dens\", data=dados).fit()\n",
        "print(\"=== Modelo completo ===\")\n",
        "print(modelo.summary())"
      ],
      "metadata": {
        "id": "0a9miQR0LKQD"
      },
      "execution_count": null,
      "outputs": []
    },
    {
      "cell_type": "markdown",
      "source": [
        "**📊 Resumo geral do modelo**\n",
        "\n",
        "|Métrica\t|Valor\t|Interpretação|\n",
        "|:--|:--|:--|\n",
        "|R² |= 0.870\t|O modelo explica 87% da variação total da matéria seca. Excelente poder explicativo.\t|\n",
        "|R² ajustado| = 0.835\t|Considerando o número de variáveis, o modelo ainda mantém bom ajuste.\t|\n",
        "|F(4,15)| = 25.00 p = 1.74e−06\t|O conjunto das variáveis explica significativamente a variação em ms. Há relação global significativa.\t|\n",
        "\n",
        "\n",
        "**✅ Conclusão geral**: o modelo como um todo é altamente significativo.\n",
        "\n",
        "🔹 Coeficientes individuais\n",
        "|Variável\t|Coef.\t|p-valor\t|Interpretação|\n",
        "|:--|:--|:--|:--|\n",
        "|Intercepto |= 0.7196\t|—\t|—\t|Valor médio esperado de ms quando todas as variáveis preditoras são zero (sem significado prático direto).|\n",
        "|temp |= -0.0129\t|0.517\t|Não significativo. Temperatura não tem efeito linear detectável sobre a matéria seca.\t|\n",
        "|prec |= 0.0043\t|0.001|\t✅ Significativo. Aumento da precipitação está associado a aumento da matéria seca; cada unidade de chuva aumenta 0.0043 ton/ha, em média.\t|\n",
        "|prag |= 0.0083\t|0.636\t|Não significativo. O efeito de pragas não é relevante estatisticamente.\t|\n",
        "|dens |= 0.0486\t|0.018\t|✅ Significativo. Densidade (provavelmente de plantas) tem efeito positivo sobre a matéria seca; cada unidade adicional aumenta 0.0486 ton/ha, em média.\t|\n",
        "\n",
        "➡️ Somente “precipitação” e “densidade” são significativas. As demais (temperatura e pragas) não contribuem de forma relevante para explicar ms.\n",
        "\n",
        "🔹 Diagnóstico do modelo\n",
        "|Teste / Estatística\t|Valor\t|Interpretação|\n",
        "|:--|:--|:--|\n",
        "|Durbin–Watson |= 1.347\t|Indica leve autocorrelação positiva dos resíduos, mas não crítica em amostra pequena.\t|\n",
        "|Omnibus / Jarque–Bera |(p > 0.2)\t|Sem evidências de violação da normalidade dos resíduos.\t|\n",
        "|Cond. No. |= 3.07e+03\t|🚨 Alerta de multicolinearidade. Algumas variáveis (ex.: temperatura, precipitação e densidade) podem estar correlacionadas entre si, o que reduz a precisão dos coeficientes individuais.\n",
        "\n",
        "**✅ Conclusão interpretativa**\n",
        "* O modelo geral é estatisticamente significativo (p < 0.001) e explica 87% da variação da matéria seca.\n",
        "\n",
        "Entre as quatro variáveis preditoras:\n",
        "* Precipitação e densidade têm efeitos positivos e significativos sobre ms.\n",
        "* Temperatura e pragas não apresentam efeito significativo.\n",
        "* A multicolinearidade pode estar inflando erros-padrão, recomenda-se verificar o VIF (Variance Inflation Factor).\n",
        "* Assim, um modelo reduzido com apenas prec e dens provavelmente manterá alto R² com maior parcimônia e estabilidade."
      ],
      "metadata": {
        "id": "jVT5axJeBe22"
      }
    },
    {
      "cell_type": "markdown",
      "source": [
        "# Análise de variância"
      ],
      "metadata": {
        "id": "HbBvbQ9S-gKH"
      }
    },
    {
      "cell_type": "code",
      "source": [
        "anova_modelo = sm.stats.anova_lm(modelo, typ=2)\n",
        "print(\"\\n=== ANOVA do modelo completo ===\")\n",
        "print(anova_modelo)"
      ],
      "metadata": {
        "id": "n3N3r4w2-fDT"
      },
      "execution_count": null,
      "outputs": []
    },
    {
      "cell_type": "markdown",
      "source": [
        "🔹 1. Interpretação geral\n",
        "\n",
        "* O modelo geral é significativo (ver resumo OLS anterior, F = 25, p < 0.001).\n",
        "* A decomposição mostra que precipitação (prec) e densidade (dens) são os fatores que realmente contribuem para explicar ms.\n",
        "* Temperatura (temp) e pragas (prag) não têm efeito significativo no modelo, sugerindo que podem ser excluídas em um modelo reduzido.\n",
        "\n",
        "🔹 2. Proporção da variação explicada\n",
        "\n",
        "* A soma de quadrados total (SQTrat + SQResidual) é:\n",
        "$SQ_{Total} = SQ_{temp} + SQ_{prec} + SQ_{prag} + SQ_{dens} + SQ_{residual}$\n",
        "\n",
        "$SQ_{Total} = 0.0179 + 0.6899 + 0.0095 + 0.2896 + 0.6101 ≈ 1.617$\n",
        "\n",
        "* SQResidual = 0.6101 → cerca de 37,7% da variação não é explicada.\n",
        "\n",
        "* SQTratamentos (prec + dens + temp + prag) = 1.0079 → cerca de 62,3% da variação total é explicada pelos preditores.\n",
        "* Isso está de acordo com o R² ≈ 0.87 (considerando escala dos quadrados e ajustes).\n",
        "\n",
        "🔹 3. Conclusão\n",
        "\n",
        "* Precipitação (prec): efeito altamente significativo — cada aumento de 1 unidade aumenta significativamente a produção de matéria seca.\n",
        "* Densidade (dens): efeito positivo e significativo.\n",
        "* Temperatura (temp) e pragas (prag): não significativas — podem ser consideradas para remoção em um modelo reduzido.\n",
        "* Resíduos: ainda existe variação não explicada, indicando que outros fatores não incluídos no modelo podem influenciar a matéria seca.\n",
        "\n",
        "**Em termos práticos: para otimizar a matéria seca, é mais importante focar em precipitação (ou irrigação equivalente) e densidade do plantio do que em temperatura ou pragas, dentro das condições estudadas.**"
      ],
      "metadata": {
        "id": "-BzcGFi-DKDP"
      }
    },
    {
      "cell_type": "markdown",
      "source": [
        "# Avaliação dos coeficientes do modelo de regressão"
      ],
      "metadata": {
        "id": "ziwFvfeH-xW3"
      }
    },
    {
      "cell_type": "code",
      "source": [
        "# === 3. Gráficos dos coeficientes ===\n",
        "coefs = modelo.params[1:]  # ignora o intercepto\n",
        "\n",
        "plt.figure()\n",
        "plt.bar(coefs.index, coefs.values)\n",
        "plt.title(\"Coeficientes do Modelo\")\n",
        "plt.xlabel(\"Atributos\")\n",
        "plt.ylabel(\"Coeficientes\")\n",
        "plt.savefig(\"mlr-coefs.pdf\")\n",
        "plt.show()\n",
        "\n",
        "plt.figure()\n",
        "plt.bar(coefs.index, coefs.values * dados.iloc[:, 1:5].mean().values)\n",
        "plt.title(\"Coeficientes × Médias das Variáveis\")\n",
        "plt.xlabel(\"Atributos\")\n",
        "plt.savefig(\"mlr-coefs-aj.pdf\")\n",
        "plt.show()"
      ],
      "metadata": {
        "id": "fTwmGotvLLrG"
      },
      "execution_count": null,
      "outputs": []
    },
    {
      "cell_type": "markdown",
      "source": [
        "# Avaliação do desempenho do modelo"
      ],
      "metadata": {
        "id": "C-Yaktwl-4sn"
      }
    },
    {
      "cell_type": "code",
      "source": [
        "plt.figure()\n",
        "plt.scatter(dados[\"ms\"], modelo.fittedvalues)\n",
        "plt.plot([dados[\"ms\"].min(), dados[\"ms\"].max()],\n",
        "         [dados[\"ms\"].min(), dados[\"ms\"].max()], color=\"red\")\n",
        "plt.xlabel(\"Matéria Seca Real (ton/ha)\")\n",
        "plt.ylabel(\"Matéria Seca Predita (ton/ha)\")\n",
        "plt.title(f\"R² ajustado = {modelo.rsquared_adj:.4f}\")\n",
        "plt.savefig(\"mlr-results.pdf\")\n",
        "plt.show()"
      ],
      "metadata": {
        "id": "r8Jlw-z6LP72"
      },
      "execution_count": null,
      "outputs": []
    },
    {
      "cell_type": "markdown",
      "source": [
        "# Avaliação de modelos reduzidos (com menos variáveis)"
      ],
      "metadata": {
        "id": "E3jC-09Z-9xK"
      }
    },
    {
      "cell_type": "code",
      "source": [
        "modelos = {\n",
        "    \"modelo2\": \"ms ~ prec + dens\",\n",
        "    \"modelo3\": \"ms ~ temp + prag + dens\",\n",
        "    \"modelo4\": \"ms ~ temp + prag\"\n",
        "}\n",
        "\n",
        "for nome, formula in modelos.items():\n",
        "    print(f\"\\n=== {nome.upper()} ===\")\n",
        "    mod = smf.ols(formula, data=dados).fit()\n",
        "    print(mod.summary())\n",
        "    sm.stats.anova_lm(mod, typ=2)\n",
        "\n",
        "    plt.scatter(dados[\"ms\"], mod.fittedvalues)\n",
        "    plt.plot([dados[\"ms\"].min(), dados[\"ms\"].max()],\n",
        "             [dados[\"ms\"].min(), dados[\"ms\"].max()], color=\"red\")\n",
        "    plt.xlabel(\"Matéria Seca Real (ton/ha)\")\n",
        "    plt.ylabel(\"Matéria Seca Predita (ton/ha)\")\n",
        "    plt.title(f\"{nome.upper()} - R² ajustado = {mod.rsquared_adj:.4f}\")\n",
        "    plt.show()"
      ],
      "metadata": {
        "id": "-ZwkF85NLZTd"
      },
      "execution_count": null,
      "outputs": []
    },
    {
      "cell_type": "markdown",
      "source": [
        "# Criação stepwise de modelos"
      ],
      "metadata": {
        "id": "SsDSSS5B_G7d"
      }
    },
    {
      "cell_type": "code",
      "source": [
        "print(\"\\n=== Seleção stepwise (grau 1) ===\")\n",
        "\n",
        "# Converte dados para formato sklearn\n",
        "X = dados[[\"temp\", \"prec\", \"prag\", \"dens\"]]\n",
        "y = dados[\"ms\"]\n",
        "\n",
        "lr = LinearRegression()\n",
        "\n",
        "# Stepwise forward e backward\n",
        "sfs = SFS(lr,\n",
        "          k_features=\"best\",\n",
        "          forward=True,\n",
        "          floating=True,\n",
        "          scoring=\"r2\",\n",
        "          cv=0)\n",
        "sfs = sfs.fit(X, y)\n",
        "print(f\"Melhores variáveis (stepwise grau 1): {sfs.k_feature_names_}\")"
      ],
      "metadata": {
        "id": "ePX7oHfuLbRn"
      },
      "execution_count": null,
      "outputs": []
    },
    {
      "cell_type": "markdown",
      "source": [
        "# Criação de modelos polinomiais"
      ],
      "metadata": {
        "id": "sXRhKHCw_Lpc"
      }
    },
    {
      "cell_type": "code",
      "source": [
        "\n",
        "dados[\"temp2\"] = dados[\"temp\"]**2\n",
        "dados[\"prec2\"] = dados[\"prec\"]**2\n",
        "dados[\"prag2\"] = dados[\"prag\"]**2\n",
        "dados[\"dens2\"] = dados[\"dens\"]**2\n",
        "\n",
        "dados[\"temp3\"] = dados[\"temp\"]**3\n",
        "dados[\"prec3\"] = dados[\"prec\"]**3\n",
        "dados[\"prag3\"] = dados[\"prag\"]**3\n",
        "dados[\"dens3\"] = dados[\"dens\"]**3\n",
        "\n",
        "dados[\"temp4\"] = dados[\"temp\"]**4\n",
        "dados[\"prec4\"] = dados[\"prec\"]**4\n",
        "dados[\"prag4\"] = dados[\"prag\"]**4\n",
        "dados[\"dens4\"] = dados[\"dens\"]**4\n",
        "\n",
        "model_formulas = [\n",
        "    \"ms ~ temp + prec + prag + dens + I(temp**2) + I(prec**2) + I(prag**2) + I(dens**2)\",\n",
        "    \"ms ~ temp + prec + prag + dens + I(temp**2) + I(prec**2) + I(prag**2) + I(dens**2) + I(temp**3) + I(prec**3) + I(prag**3) + I(dens**3)\",\n",
        "    \"ms ~ temp + prec + prag + dens + I(temp**2) + I(prec**2) + I(prag**2) + I(dens**2) + I(temp**3) + I(prec**3) + I(prag**3) + I(dens**3) + I(temp**4) + I(prec**4) + I(prag**4) + I(dens**4)\"\n",
        "]\n",
        "\n",
        "for i, formula in enumerate(model_formulas, start=2):\n",
        "    print(f\"\\n=== Stepwise grau {i} ===\")\n",
        "    mod = smf.ols(formula, data=dados).fit()\n",
        "    print(mod.summary())\n",
        "\n",
        "    # Seleção automática usando stepwise\n",
        "    vars_ = [\"temp\", \"prec\", \"prag\", \"dens\",\n",
        "             \"temp2\", \"prec2\", \"prag2\", \"dens2\",\n",
        "             \"temp3\", \"prec3\", \"prag3\", \"dens3\",\n",
        "             \"temp4\", \"prec4\", \"prag4\", \"dens4\"]\n",
        "    vars_ = [v for v in vars_ if v in dados.columns]\n",
        "    X_poly = dados[vars_]\n",
        "    sfs_poly = SFS(lr, k_features=\"best\", forward=True, floating=True, scoring=\"r2\", cv=0)\n",
        "    sfs_poly.fit(X_poly, y)\n",
        "    print(f\"Variáveis selecionadas (grau {i}): {sfs_poly.k_feature_names_}\")\n"
      ],
      "metadata": {
        "id": "S1mhEMykLdGa"
      },
      "execution_count": null,
      "outputs": []
    }
  ]
}