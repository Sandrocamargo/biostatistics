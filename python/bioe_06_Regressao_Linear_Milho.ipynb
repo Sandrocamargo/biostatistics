{
  "nbformat": 4,
  "nbformat_minor": 0,
  "metadata": {
    "colab": {
      "provenance": []
    },
    "kernelspec": {
      "name": "python3",
      "display_name": "Python 3"
    },
    "language_info": {
      "name": "python"
    }
  },
  "cells": [
    {
      "cell_type": "markdown",
      "source": [
        "# Curso: Bioestatística — Experimento de Regressão Linear\n",
        "## Autores: Sandro da Silva Camargo e Fernando Cardoso\n",
        "\n",
        "**Problema**:Um experimento foi realizado para testar o efeito\n",
        "da adubação nitrogenada (0, 100, 200 e 300 kg/ha de Adubo\n",
        "Nitrogenado) na produção de milho (kg/parcela).\n",
        "\n",
        "\n",
        "A base de dados está disponível [aqui](https://github.com/Sandrocamargo/biostatistics/blob/master/datasets/rl-milho.txt).\n",
        "\n",
        "Abra este código no seu google colab [clicando aqui](https://colab.research.google.com/github/Sandrocamargo/biostatistics/blob/master/python/bioe_06_Regressao_Linear_Milho.ipynb)."
      ],
      "metadata": {
        "id": "aYCmmirMrUnF"
      }
    },
    {
      "cell_type": "code",
      "execution_count": null,
      "metadata": {
        "id": "7ZJ5dGoRHq3o"
      },
      "outputs": [],
      "source": [
        "import pandas as pd\n",
        "import statsmodels.api as sm\n",
        "import statsmodels.formula.api as smf\n",
        "import matplotlib.pyplot as plt"
      ]
    },
    {
      "cell_type": "markdown",
      "source": [
        "# Carga e inspeção dos dados"
      ],
      "metadata": {
        "id": "_pFLpeZlriLX"
      }
    },
    {
      "cell_type": "code",
      "source": [
        "# === 1. Leitura dos dados ===\n",
        "dados = pd.read_csv(\"https://raw.githubusercontent.com/Sandrocamargo/biostatistics/refs/heads/master/datasets/rl-milho.txt\", sep=r\"\\s+\", header=0)\n",
        "dados.info()\n",
        "dados.head()"
      ],
      "metadata": {
        "id": "cejmQoaPHs_x"
      },
      "execution_count": null,
      "outputs": []
    },
    {
      "cell_type": "markdown",
      "source": [
        "# Adaptação de um modelo de regressão linear"
      ],
      "metadata": {
        "id": "6nFOvcTcr5c0"
      }
    },
    {
      "cell_type": "code",
      "source": [
        "dados[\"trat\"] = dados[\"dose\"].astype(\"category\")\n",
        "\n",
        "modelo = smf.ols(\"prod ~ dose\", data=dados).fit()\n",
        "print(\"=== Modelo de regressão simples ===\")\n",
        "print(modelo.summary())"
      ],
      "metadata": {
        "id": "qPpwuuf0H2ZK"
      },
      "execution_count": null,
      "outputs": []
    },
    {
      "cell_type": "markdown",
      "source": [
        "**📊 Resumo do modelo**\n",
        "\n",
        "Equação estimada:\n",
        "$\\hat{prod} = 49.975 + 0.0572 × dose$\n",
        "\t​\n",
        "1. Coeficientes e significância\n",
        "|Parâmetro\t|Estimativa\t|Erro padrão\t|t|p-valor|Interpretação|\n",
        "|:--|:--|:--|:--|:--|:--\n",
        "|Intercepto |49.975\t| 2.282\t|21.90|\t< 0.001\t|Quando a dose é 0, a produção média esperada é cerca de 49.98 unidades.|\n",
        "|Dose |\t0.0572\t| 0.012\t|4.69|\t< 0.001\t|A cada aumento de 1 unidade na dose, a produção aumenta em média 0.0572 unidades, de forma estatisticamente significativa.|\n",
        "\n",
        "**O p-valor < 0.001 indica que a variável dose tem efeito altamente significativo sobre a produção (prod).**\n",
        "\n",
        "2. Qualidade do ajuste\n",
        "|Indicador|Valor|Interpretação|\n",
        "|:--|:--|:--|\n",
        "|R² |= 0.612\t|O modelo explica 61,2% da variação total da produção.\t|\n",
        "|R² ajustado |= 0.584\t|Considerando o número de observações, o modelo ainda explica 58,4% da variação — um ajuste moderado a bom.\t|\n",
        "|F(1,14) |= 22.04; p = 0.000345|\tO modelo como um todo é estatisticamente significativo, ou seja, há relação linear entre dose e produção.\t|\n",
        "\n",
        "**💡 Em termos práticos: mais da metade da variação na produção é explicada apenas pela dose de adubo.**\n",
        "\n",
        "3. Diagnóstico dos resíduos\n",
        "|Estatística|Valor|Interpretação|\n",
        "|:--|:--|:--|\n",
        "|Durbin-Watson |= 2.62\t|Indica ausência de autocorrelação nos resíduos (valor próximo de 2 é ideal).\t|\n",
        "|Omnibus |= 2.27, JB = 0.58, p = 0.75\t|Os resíduos seguem distribuição normal, o que valida os testes t e F.\t|\n",
        "|Cond. No. |= 313|\tNão há sinais relevantes de multicolinearidade, pois é um modelo simples.\n",
        "\n",
        "**🧩 Conclusão geral**\n",
        "* O modelo é estatisticamente significativo (p < 0.001).\n",
        "* A variável dose exerce um efeito positivo e relevante sobre a produção.\n",
        "* O ajuste é razoavelmente bom (R² ≈ 0.61).\n",
        "* Os resíduos atendem aos pressupostos de normalidade e independência.\n",
        "\n",
        "**🧠 Interpretação**\n",
        "\n",
        "* À medida que a dose de adubo aumenta, a produção também aumenta de forma significativa.\n",
        "\n",
        "* O modelo explica cerca de 60% da variação na produção, e os testes estatísticos indicam que a relação é consistente e confiável."
      ],
      "metadata": {
        "id": "0hzXCCfhy3xF"
      }
    },
    {
      "cell_type": "markdown",
      "source": [
        "# Análise de variância"
      ],
      "metadata": {
        "id": "q9cQ2L3VsDOS"
      }
    },
    {
      "cell_type": "code",
      "source": [
        "print(\"\\n=== ANOVA usual ===\")\n",
        "anova_geral = sm.stats.anova_lm(modelo, typ=2)\n",
        "print(anova_geral)"
      ],
      "metadata": {
        "id": "To16xH-osDwv"
      },
      "execution_count": null,
      "outputs": []
    },
    {
      "cell_type": "markdown",
      "source": [
        "1. Teste F global\n",
        "\n",
        "Hipóteses:\n",
        "\n",
        "*  H₀: o coeficiente da variável dose é igual a zero (sem efeito sobre prod);\n",
        "\n",
        "*  H₁: o coeficiente da variável dose é diferente de zero.\n",
        "*  F = 22.04 e p = 0.000345 ⟹ rejeita-se H₀.\n",
        "\n",
        "**Portanto, há evidência altamente significativa (p < 0.001) de que a dose influencia a produção.**\n",
        "\n",
        "2. Importância da SQ\n",
        "\n",
        "Soma dos quadrados de regressão (SQTrat ou SQDose) = 655.51\n",
        "→ representa a variação explicada pela relação entre dose e prod.\n",
        "\n",
        "Soma dos quadrados do resíduo (SQRes) = 416.43\n",
        "→ é a variação não explicada (erro).\n",
        "\n",
        "**💡 O fato de a SQDose ser maior que a SQRes indica que a maior parte da variação total da produção é explicada pela dose.**\n",
        "\n",
        "3. R² implícito\n",
        "\n",
        "Podemos obter o R² diretamente da ANOVA:\n",
        "\n",
        "$𝑅^2 = \\frac{SQ_{Regressao}}{SQ_{Total}} = \\frac{655.51}{655.51+416.43} = 0.6119$​\n",
        "\n",
        "* O mesmo valor encontrado no modelo de regressão: R² = 0.612.\n",
        "\n",
        "**✅ Conclusão**\n",
        "*  O modelo é estatisticamente significativo (F = 22.04; p < 0.001).\n",
        "*  A variável dose explica cerca de 61% da variação na produção.\n",
        "\n",
        "**Assim, há uma relação linear forte e positiva entre a dose de adubo e a produção.**"
      ],
      "metadata": {
        "id": "Lcv00ITt0lGi"
      }
    },
    {
      "cell_type": "code",
      "source": [
        "# === 3. Decomposição da SQTratamento ===\n",
        "# SQTratamento = SQRegressão + SQFalta de Ajuste\n",
        "desd_modelo = smf.ols(\"prod ~ dose + trat\", data=dados).fit()\n",
        "anova_desd = sm.stats.anova_lm(desd_modelo, typ=2)\n",
        "print(\"\\n=== ANOVA com decomposição (dose + trat) ===\")\n",
        "print(anova_desd)\n",
        "\n",
        "# Coeficiente de determinação (r²)\n",
        "SQReg = anova_desd.loc[\"dose\", \"sum_sq\"]\n",
        "SQTrat = SQReg + anova_desd.loc[\"trat\", \"sum_sq\"]\n",
        "r2 = SQReg / SQTrat\n",
        "print(f\"\\nCoeficiente de Determinação (r²) = {r2:.3f}\")"
      ],
      "metadata": {
        "id": "JHsfeH_iH6wz"
      },
      "execution_count": null,
      "outputs": []
    },
    {
      "cell_type": "markdown",
      "source": [
        "Este resultado representa uma ANOVA com decomposição, usada quando há repetição para cada dose de adubo. Ela separa o efeito total de “tratamentos” (as doses) em duas partes:\n",
        "*  variação explicada pela regressão (dose), e\n",
        "*  variação de falta de ajuste (trat – dose).\n",
        "\n",
        "\n",
        "🔹 1. Interpretação geral\n",
        "\n",
        "*  O modelo testa se a produção de milho varia com a dose de adubo e se essa variação é adequadamente explicada por um modelo linear.\n",
        "*  O efeito de trat (todas as doses) é significativo (p = 0.007): há diferenças entre as médias das doses.\n",
        "*  O efeito de dose (parte linear) também é altamente significativo (p = 0.0016): há relação linear clara entre dose e produção.\n",
        "\n",
        "🔹 2. Decomposição da variação\n",
        "\n",
        "*  A soma de quadrados total dos tratamentos foi desdobrada assim:\n",
        "\n",
        "$SQ_{Trat} = SQ_{Regressao} + SQ_{Falta de Ajuste}$\n",
        "\n",
        "onde:\n",
        "\n",
        "* $SQ_{Trat}$ = 666.69\n",
        "\n",
        "* $SQ_{Regressão (dose)}$ = 551.12 → parte explicada pela relação linear\n",
        "\n",
        "* $SQ_{Falta de ajuste}$ = 666.69 − 551.12 = 115.57\n",
        "\n",
        "➡️ A falta de ajuste (diferença entre o modelo linear e as médias observadas) não é significativa, indicando que o modelo linear é adequado para descrever a relação entre dose e produção.\n",
        "\n",
        "🔹 3. Coeficiente de determinação (r² = 0.453)\n",
        "\n",
        "*  O r² mostra que aproximadamente 45,3% da variação total da produção é explicada pela regressão linear com a dose.\n",
        "*  Embora significativo, isso indica que há variabilidade residual considerável, possivelmente devido a outros fatores experimentais não incluídos no modelo.\n",
        "\n",
        "✅ Conclusão\n",
        "\n",
        "* Há diferenças significativas entre as doses (p = 0.007).\n",
        "* O efeito linear da dose é altamente significativo (p = 0.0016).\n",
        "* O modelo linear explica cerca de 45% da variação da produção, sendo estatisticamente adequado (sem falta de ajuste relevante).\n",
        "\n",
        "Assim, pode-se concluir que aumentos na dose de adubo estão associados a aumentos proporcionais na produção, dentro da faixa estudada."
      ],
      "metadata": {
        "id": "15aLPJ-22hEy"
      }
    },
    {
      "cell_type": "markdown",
      "source": [
        "# Análise gráfica"
      ],
      "metadata": {
        "id": "BMIRSVM5sN5Q"
      }
    },
    {
      "cell_type": "code",
      "source": [
        "# === 4. Ajuste final e gráfico ===\n",
        "modelo_ajustado = modelo  # mesmo modelo linear simples\n",
        "\n",
        "b0, b1 = modelo_ajustado.params\n",
        "print(f\"\\nModelo ajustado: y = {b0:.5f} + {b1:.5f}x\")\n",
        "\n",
        "# Geração do gráfico\n",
        "plt.figure(figsize=(8, 6))\n",
        "plt.scatter(dados[\"dose\"], dados[\"prod\"], color=\"blue\", label=\"Observações\")\n",
        "\n",
        "# linha de regressão\n",
        "x_vals = pd.Series(sorted(dados[\"dose\"]))\n",
        "y_vals = b0 + b1 * x_vals\n",
        "plt.plot(x_vals, y_vals, color=\"red\", label=\"Ajuste linear\")\n",
        "\n",
        "plt.xlabel(\"Dose adubo nitrogenado (kg/ha)\")\n",
        "plt.ylabel(\"Produção de milho (kg/parcela)\")\n",
        "plt.title(f\"R² ajustado = {modelo_ajustado.rsquared_adj:.4f}\")\n",
        "plt.legend(title=f\"y = {b0:.5f} + {b1:.5f}x\", loc=\"upper left\")\n",
        "plt.grid(True)\n",
        "plt.tight_layout()\n",
        "plt.show()"
      ],
      "metadata": {
        "id": "z5aVzYp1H9Rj"
      },
      "execution_count": null,
      "outputs": []
    }
  ]
}