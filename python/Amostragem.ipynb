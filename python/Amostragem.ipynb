{
  "nbformat": 4,
  "nbformat_minor": 0,
  "metadata": {
    "colab": {
      "provenance": []
    },
    "kernelspec": {
      "name": "python3",
      "display_name": "Python 3"
    },
    "language_info": {
      "name": "python"
    }
  },
  "cells": [
    {
      "cell_type": "markdown",
      "source": [
        "O objetivo deste código é mostrar as medidas de tendência central e de dispersão para diferentes tamanhos de amostras de uma população de 1.000.000 de elementos."
      ],
      "metadata": {
        "id": "mbhyDKj45pqW"
      }
    },
    {
      "cell_type": "code",
      "execution_count": null,
      "metadata": {
        "id": "w5rvMk032IRN"
      },
      "outputs": [],
      "source": [
        "import numpy as np\n",
        "import pandas as pd\n",
        "import matplotlib.pyplot as plt\n",
        "\n",
        "# 1. Gerar população com 1000000 valores de distribuição normal\n",
        "np.random.seed(1)  # para reprodutibilidade\n",
        "populacao = np.random.normal(loc=50, scale=10, size=1000000)  # média=50, desvio=10\n",
        "\n",
        "# 2. Tamanhos de amostra\n",
        "tamanhos = [5, 10, 20, 30, 40, 50, 100, 250, 500,1000,100000,1000000]\n",
        "\n",
        "# 3. Armazenar resultados\n",
        "resultados = []\n",
        "\n",
        "for n in tamanhos:\n",
        "    amostra = np.round(np.random.choice(populacao, size=n, replace=False),2)\n",
        "    media = np.mean(amostra)\n",
        "    mediana = np.median(amostra)\n",
        "    moda = pd.Series(amostra).mode()\n",
        "    moda_valor = moda.iloc[0] if not moda.empty else np.nan\n",
        "    variancia = np.var(amostra)\n",
        "    desvpad = np.std(amostra)\n",
        "\n",
        "    resultados.append({\n",
        "        \"Tamanho da Amostra\": n,\n",
        "        \"Média\": round(media, 2),\n",
        "        \"Mediana\": round(mediana, 2),\n",
        "        \"Moda\": round(moda_valor, 2),\n",
        "        \"Variância\": round(variancia, 2),\n",
        "        \"Desvio Padrão\": round(desvpad, 2)\n",
        "    })\n",
        "\n",
        "# 4. Criar DataFrame com os resultados\n",
        "df_resultados = pd.DataFrame(resultados)\n",
        "\n",
        "print(\"Medidas de tendência central e de dispersão das amostras:\")\n",
        "print(df_resultados)"
      ]
    },
    {
      "cell_type": "code",
      "source": [
        "# Obtém dados da população inteira (a última linha)\n",
        "ultima_linha = df_resultados.iloc[-1]\n",
        "\n",
        "# Calcula as distâncias em relação à última linha\n",
        "distancias = df_resultados.copy()\n",
        "distancias.iloc[:, 1:] = df_resultados.iloc[:, 1:] - ultima_linha.iloc[1:]  # subtrai apenas colunas numéricas\n",
        "\n",
        "print(\"Distâncias em relação aos parâmetros da população:\")\n",
        "print(distancias)"
      ],
      "metadata": {
        "id": "Em7ONXow6sdr"
      },
      "execution_count": null,
      "outputs": []
    },
    {
      "cell_type": "code",
      "source": [
        "# Geração do gráfico\n",
        "plt.figure(figsize=(8, 5))\n",
        "plt.plot(df_resultados.iloc[:, 0], df_resultados.iloc[:, 1], marker='o', linestyle='-')\n",
        "\n",
        "plt.xscale('log')  # Escala logarítmica no eixo X\n",
        "plt.xlabel(df_resultados.columns[0])\n",
        "plt.ylabel(df_resultados.columns[1])\n",
        "plt.title(\"Gráfico de Linhas - Eixo X em Escala Logarítmica\")\n",
        "plt.grid(True, which=\"both\", linestyle=\"--\", linewidth=0.5)\n",
        "\n",
        "plt.tight_layout()\n",
        "plt.show()"
      ],
      "metadata": {
        "id": "Zsm7znlsuRpL"
      },
      "execution_count": null,
      "outputs": []
    },
    {
      "cell_type": "code",
      "source": [
        "# Geração do gráfico\n",
        "plt.figure(figsize=(8, 5))\n",
        "plt.plot(df_resultados.iloc[:, 0], df_resultados.iloc[:, 5], marker='o', linestyle='-')\n",
        "\n",
        "plt.xscale('log')  # Escala logarítmica no eixo X\n",
        "plt.xlabel(df_resultados.columns[0])\n",
        "plt.ylabel(df_resultados.columns[5])\n",
        "plt.title(\"Gráfico de Linhas - Eixo X em Escala Logarítmica\")\n",
        "plt.grid(True, which=\"both\", linestyle=\"--\", linewidth=0.5)\n",
        "\n",
        "plt.tight_layout()\n",
        "plt.show()"
      ],
      "metadata": {
        "id": "KaFBz1ALw3UG"
      },
      "execution_count": null,
      "outputs": []
    }
  ]
}