{
  "nbformat": 4,
  "nbformat_minor": 0,
  "metadata": {
    "colab": {
      "provenance": []
    },
    "kernelspec": {
      "name": "python3",
      "display_name": "Python 3"
    },
    "language_info": {
      "name": "python"
    }
  },
  "cells": [
    {
      "cell_type": "markdown",
      "source": [
        "# Curso: Bioestatística — Experimento de Regressão Linear\n",
        "## Autores: Sandro da Silva Camargo e Fernando Cardoso\n",
        "\n",
        "**Problema**:Avalie a relação entre nı́veis de proteı́na na ração X (%) e as produções médias de leite Y (kg) em um grupo de vacas tratadas com diferentes níveis de ração.\n",
        "\n",
        "\n",
        "A base de dados está disponível [aqui](https://github.com/Sandrocamargo/biostatistics/blob/master/datasets/rl-leite.txt).\n",
        "\n",
        "Abra este código no seu google colab [clicando aqui](https://colab.research.google.com/github/Sandrocamargo/biostatistics/blob/master/python/bioe_06_Regressao_Linear_Leite.ipynb)."
      ],
      "metadata": {
        "id": "GcovRC6Mi-wH"
      }
    },
    {
      "cell_type": "code",
      "execution_count": null,
      "metadata": {
        "id": "K2ILI6j3EmP5"
      },
      "outputs": [],
      "source": [
        "import pandas as pd\n",
        "import statsmodels.api as sm\n",
        "import statsmodels.formula.api as smf\n",
        "import matplotlib.pyplot as plt"
      ]
    },
    {
      "cell_type": "markdown",
      "source": [
        "# Carga dos dados e inspeção dos dados"
      ],
      "metadata": {
        "id": "EH3Dd5arjo3Z"
      }
    },
    {
      "cell_type": "code",
      "source": [
        "dados = pd.read_csv(\"https://raw.githubusercontent.com/Sandrocamargo/biostatistics/refs/heads/master/datasets/rl-leite.txt\", sep=\"\\t\", decimal=\",\", header=0)\n",
        "dados.info()\n",
        "dados.head()"
      ],
      "metadata": {
        "id": "xxEREW4jEqSY"
      },
      "execution_count": null,
      "outputs": []
    },
    {
      "cell_type": "markdown",
      "source": [
        "# Adaptação de um modelo de regressão linear"
      ],
      "metadata": {
        "id": "wA7YYvPCjvJG"
      }
    },
    {
      "cell_type": "code",
      "source": [
        "# --- Fit linear model ---\n",
        "modelo = smf.ols(\"y ~ prot\", data=dados).fit()\n",
        "\n",
        "# --- Summary (t-tests, coefficients, R²) ---\n",
        "print(\"\\nResumo do modelo:\")\n",
        "print(modelo.summary())"
      ],
      "metadata": {
        "id": "donfp_8OFAuX"
      },
      "execution_count": null,
      "outputs": []
    },
    {
      "cell_type": "markdown",
      "source": [
        "**📈 Qualidade do ajuste**\n",
        "\n",
        "|Indicador\t| Valor\t| Interpretação |\n",
        "|:--|:--|:--|\n",
        "|R² |= 0.978\t| O modelo explica 97,8% da variação observada na variável resposta (y). Isso indica um excelente ajuste.\t|\n",
        "|R² ajustado |= 0.975\t|Ajusta o R² pelo número de variáveis e observações. Como há apenas uma variável explicativa, o valor é praticamente igual — mostrando consistência.\t|\n",
        "|F(1,8) |= 354.1; p < 0.001\t| O teste F indica que o modelo como um todo é altamente significativo — ou seja, a proteína na ração tem efeito estatisticamente significativo sobre a produção.\t|\n",
        "\n",
        "**📊 Coeficientes**\n",
        "|Termo\t| Coeficiente\t| Interpretação\t| p-valor|\n",
        "|:--|:--|:--|:--|\n",
        "|Intercepto | = 8.2376\t| Quando a proteína é 0%, a produção esperada é de aproximadamente 8,24 unidades (por exemplo, kg de leite).\t| p < 0.001\t|\n",
        "|prot |= 0.3170\t| Para cada aumento de 1% na proteína da ração, a produção aumenta em 0,317 unidades. O coeficiente é altamente significativo | (p < 0.001).|\n",
        "\n",
        "✅ Isso mostra uma relação linear positiva e forte entre o teor de proteína e a produção.\n",
        "\n",
        "**⚙️ Diagnóstico dos resíduos**\n",
        "|Teste\t| Resultado\t| Interpretação |\n",
        "|:--|:--|:--|\n",
        "|Omnibus |= 0.851; Prob = 0.654\t| Não há evidência de desvio da normalidade dos resíduos.\t|\n",
        "|Jarque-Bera |= 0.218; Prob = 0.897\t| Também indica normalidade dos resíduos.\n",
        "Durbin-Watson |= 1.741\t|Sem autocorrelação significativa nos resíduos (valor próximo de 2).\t|\n",
        "|Cond. No. | = 68.7\t| Não há problema de multicolinearidade (esperado em regressão simples).\t|\n",
        "\n",
        "**🧩 Conclusão**\n",
        "\n",
        "O modelo ajustado é estatisticamente muito significativo e bem comportado, indicando que:\n",
        "\n",
        "A produção aumenta linearmente com o aumento da proteína na ração.\n",
        "\n",
        "O modelo explica quase toda a variação observada (R² ≈ 0,98).\n",
        "\n",
        "Os resíduos são normais e independentes.\n",
        "\n",
        "\n",
        "**👉 Equação ajustada:**\n",
        "\n",
        "$\\hat{y} = 8,2376 + 0,3170 × prot $"
      ],
      "metadata": {
        "id": "LzyAKZOUj9bt"
      }
    },
    {
      "cell_type": "markdown",
      "source": [
        "# Análise de variância"
      ],
      "metadata": {
        "id": "fxQohjkeo8Uh"
      }
    },
    {
      "cell_type": "code",
      "source": [
        "# --- ANOVA table ---\n",
        "anova_table = sm.stats.anova_lm(modelo, typ=2)\n",
        "print(\"\\nANOVA do modelo:\")\n",
        "print(anova_table)"
      ],
      "metadata": {
        "id": "SIPEvmsCFC1s"
      },
      "execution_count": null,
      "outputs": []
    },
    {
      "cell_type": "markdown",
      "source": [
        "**🔍 O que cada linha significa**\n",
        "1. Linha “prot”\n",
        "\n",
        "*  Representa a variação explicada pelo modelo, ou seja, quanto da variação em y é explicada pela variável prot (teor de proteína).\n",
        "\n",
        "*  Soma dos quadrados (33.155): é a parcela de variação explicada pela regressão.\n",
        "\n",
        "*  F = 354.14: é o teste F global da regressão, que compara a variância explicada pelo modelo com a variância residual.\n",
        "\n",
        "* p-valor = 6.57 × 10⁻⁸: extremamente pequeno (menor que 0.001).\n",
        "\n",
        "* **Conclusão**: o efeito da proteína na ração sobre a produção é altamente significativo.\n",
        "\n",
        "2. Linha “Residual”\n",
        "\n",
        "*  Representa a variação não explicada pelo modelo, o “erro” ou ruído nos dados.\n",
        "*  Soma dos quadrados (0.749): pequena, o que reforça que o modelo explica quase toda a variação.\n",
        "\n",
        "**📈 Interpretação geral**\n",
        "\n",
        "O valor de F = 354.14 e o p < 0.0001 indicam que o modelo é estatisticamente significativo.\n",
        "\n",
        "Em outras palavras:\n",
        "\n",
        "Existe evidência muito forte de que o teor de proteína (prot) influencia significativamente a produção (y).\n",
        "\n",
        "**💡 Resumo**\n",
        "\n",
        "O teste ANOVA mostra que:\n",
        "\n",
        "A variação na produção é explicada quase totalmente pela variação na proteína da ração, com significância estatística altíssima (p < 0.001)."
      ],
      "metadata": {
        "id": "KZY_PoQomZq5"
      }
    },
    {
      "cell_type": "markdown",
      "source": [
        "# Análise gráfica"
      ],
      "metadata": {
        "id": "SbryoHF1o4sE"
      }
    },
    {
      "cell_type": "code",
      "source": [
        "# --- Scatterplot with regression line ---\n",
        "plt.figure(figsize=(8, 6))\n",
        "plt.scatter(dados[\"prot\"], dados[\"y\"], color=\"blue\", label=\"Observações\")\n",
        "\n",
        "# Regression line\n",
        "x_vals = pd.Series(sorted(dados[\"prot\"]))\n",
        "#y_vals = modelo.params[0] + modelo.params[1] * x_vals\n",
        "y_vals = modelo.params.iloc[0] + modelo.params.iloc[1] * x_vals\n",
        "plt.plot(x_vals, y_vals, color=\"red\", label=\"Ajuste linear\")\n",
        "\n",
        "# Axis limits similar to R version\n",
        "plt.xlim(dados[\"prot\"].min() * 0.95, dados[\"prot\"].max() * 1.05)\n",
        "plt.ylim(dados[\"y\"].min() * 0.95, dados[\"y\"].max() * 1.05)\n",
        "\n",
        "# Labels\n",
        "plt.xlabel(\"Proteína na Ração (%)\")\n",
        "plt.ylabel(\"Produção de Leite (kg)\")\n",
        "\n",
        "# Equation and R² in legend\n",
        "#eq_text = f\"y = {modelo.params[0]:.4f} + {modelo.params[1]:.4f}x\\nR² = {modelo.rsquared_adj:.4f}\"\n",
        "eq_text = f\"y = {modelo.params.iloc[0]:.4f} + {modelo.params.iloc[1]:.4f}x\\nR² = {modelo.rsquared_adj:.4f}\"\n",
        "plt.legend([eq_text], loc=\"upper left\")\n",
        "\n",
        "# --- Save or show ---\n",
        "plt.savefig(\"rl_leite_regressao.png\", dpi=300, bbox_inches=\"tight\")\n",
        "plt.show()"
      ],
      "metadata": {
        "id": "avVPfnMkFO9R"
      },
      "execution_count": null,
      "outputs": []
    }
  ]
}