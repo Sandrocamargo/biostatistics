{
  "nbformat": 4,
  "nbformat_minor": 0,
  "metadata": {
    "colab": {
      "provenance": []
    },
    "kernelspec": {
      "name": "python3",
      "display_name": "Python 3"
    },
    "language_info": {
      "name": "python"
    }
  },
  "cells": [
    {
      "cell_type": "markdown",
      "source": [
        "# Curso: Bioestatística — Experimento Fatorial DIC (Delineamento Inteiramente Casualizado)\n",
        "## Autores: Sandro da Silva Camargo e Fernando Cardoso\n",
        "\n",
        "**Problema**: Um pesquisador pretende avaliar o efeito da irrigação e da calagem sobre a produção de uma determinada cultura (variável resposta\n",
        "Y, expressa em kg de plantas por hectare). A hipótese é que tanto a irrigação quanto a calagem, isoladamente ou em conjunto, podem influenciar o rendimento da cultura.\n",
        "\n",
        "Fatores estudados:\n",
        "* Irrigação (I)\n",
        "- I₀: sem irrigação\n",
        "\n",
        "- I₁: com irrigação\n",
        "* Calagem (C)\n",
        "- C₀: sem calagem\n",
        "\n",
        "- C₁: com calagem\n",
        "\n",
        "Estrutura experimental:\n",
        "Para estudar simultaneamente os efeitos desses dois fatores e sua possível interação, o pesquisador planejou um experimento fatorial 2×2, resultando em quatro combinações de tratamentos:\n",
        "\n",
        "|Tratamento|Irrigação|Calagem|\n",
        "|:--|:--:|:--:|\n",
        "|I₀C₀\t|Sem irrigação\t|Sem calagem|\n",
        "|I₀C₁\t|Sem irrigação\t|Com calagem|\n",
        "|I₁C₀\t|Com irrigação\t|Sem calagem|\n",
        "|I₁C₁\t|Com irrigação\t|Com calagem|\n",
        "\n",
        "Cada tratamento será aplicado a um número igual de unidades experimentais (por exemplo, parcelas), permitindo comparar as médias de produção entre os grupos.\n",
        "\n",
        "Objetivo:\n",
        "*  Verificar os efeitos principais da irrigação e da calagem sobre a produção;\n",
        "*  Verificar a interação entre os fatores, isto é, se o efeito de um fator depende da presença do outro.\n",
        "\n",
        "A base de dados está disponível [aqui](https://raw.githubusercontent.com/Sandrocamargo/biostatistics/refs/heads/master/datasets/fatorial-dic-dados.txt).\n",
        "\n",
        "Abra este código no seu google colab [clicando aqui](https://colab.research.google.com/github/Sandrocamargo/biostatistics/blob/master/python/bioe_05_fatorial_dic.ipynb)."
      ],
      "metadata": {
        "id": "0o_YGA-vFkcz"
      }
    },
    {
      "cell_type": "code",
      "execution_count": null,
      "metadata": {
        "id": "-TApms1v-WmZ"
      },
      "outputs": [],
      "source": [
        "# %% Importação de pacotes\n",
        "!pip install pingouin\n",
        "import pandas as pd\n",
        "import matplotlib.pyplot as plt\n",
        "import statsmodels.api as sm\n",
        "import statsmodels.formula.api as smf\n",
        "from statsmodels.stats.anova import anova_lm\n",
        "from statsmodels.stats.multicomp import pairwise_tukeyhsd\n",
        "from scipy import stats\n",
        "import pingouin as pg"
      ]
    },
    {
      "cell_type": "code",
      "source": [
        "# %% Carregar dados\n",
        "dados = pd.read_table(\"https://raw.githubusercontent.com/Sandrocamargo/biostatistics/refs/heads/master/datasets/fatorial-dic-dados.txt\")\n",
        "\n",
        "# Converter colunas em fatores (categorias)\n",
        "dados[\"TR\"] = dados[\"TR\"].astype(\"category\")   # Tratamento\n",
        "dados[\"IR\"] = dados[\"IR\"].astype(\"category\")   # Irrigação\n",
        "dados[\"CAL\"] = dados[\"CAL\"].astype(\"category\") # Calagem\n",
        "\n",
        "# O grupo de controle é o primeiro desta lista\n",
        "dados[\"IR\"] = pd.Categorical(\n",
        "    dados[\"IR\"],\n",
        "    categories=[\"Sem\", \"Com\"],\n",
        "    ordered=True\n",
        ")\n",
        "dados[\"CAL\"] = pd.Categorical(\n",
        "    dados[\"CAL\"],\n",
        "    categories=[\"Sem\", \"Com\"],\n",
        "    ordered=True\n",
        ")\n",
        "dados.info()\n"
      ],
      "metadata": {
        "id": "2Wvo9y7r-bTE"
      },
      "execution_count": null,
      "outputs": []
    },
    {
      "cell_type": "code",
      "source": [
        "# %% Boxplots para verificar outliers\n",
        "plt.figure()\n",
        "dados.boxplot(column=\"Y\", by=\"IR\")\n",
        "plt.title(\"Boxplot por Irrigação\")\n",
        "plt.suptitle(\"\")\n",
        "plt.xlabel(\"Irrigação\")\n",
        "plt.ylabel(\"Y\")\n",
        "plt.show()\n",
        "\n",
        "plt.figure()\n",
        "dados.boxplot(column=\"Y\", by=\"CAL\")\n",
        "plt.title(\"Boxplot por Calagem\")\n",
        "plt.suptitle(\"\")\n",
        "plt.xlabel(\"Calagem\")\n",
        "plt.ylabel(\"Y\")\n",
        "plt.show()"
      ],
      "metadata": {
        "id": "LgwGaRKp-dS_"
      },
      "execution_count": null,
      "outputs": []
    },
    {
      "cell_type": "code",
      "source": [
        "# %% Modelo fatorial com interação\n",
        "modelo = smf.ols(\"Y ~ C(IR) * C(CAL)\", data=dados).fit()\n",
        "print(modelo.summary())\n",
        "print(\"\\n=== ANOVA - Modelo fatorial ===\")\n",
        "print(anova_lm(modelo, typ=2))"
      ],
      "metadata": {
        "id": "TliiDWhZ-q2O"
      },
      "execution_count": null,
      "outputs": []
    },
    {
      "cell_type": "markdown",
      "source": [
        "# 🎯 Objetivo do modelo\n",
        "\n",
        "Avaliar os efeitos principais de irrigação (IR) e calagem (CAL), e o efeito de interação IR×CAL sobre a produção média (Y).\n",
        "\n",
        "# 📈 Qualidade do ajuste\n",
        "\n",
        "*  R² = 0.951 → O modelo explica 95,1% da variação total da produção.\n",
        "\n",
        "*  R² ajustado = 0.932 → Mesmo considerando o número de preditores, o ajuste continua muito bom.\n",
        "\n",
        "*  F(3,8) = 51.56; p < 0.001 → O modelo global é altamente significativo, ou seja, pelo menos um dos fatores (ou sua interação) afeta Y.\n",
        "\n",
        "# ⚙️ Coeficientes estimados\n",
        "|Termo|\tInterpretação|\tCoef.|\tp-valor|\tSignificância|\n",
        "|:--|:--|:--|:--|:--|\n",
        "|Intercepto |\tMédia do tratamento controle (sem irrigação e sem calagem).\t| 28.0\t| $<$0.001\t| ✅ significativo|\n",
        "|C(IR)[T.Com] |\tA irrigação, isoladamente, aumenta em média 10 unidades a produção.\t| 10.0 | 0.010\t|✅ significativo\t|\n",
        "|C(CAL)[T.Com] |A calagem, isoladamente, aumenta em média 4 unidades, mas o efeito não é significativo.\t| 4.0 |0.219\t|❌ não significativo\t|\n",
        "|Interação (IR×CAL) |Quando ambas são aplicadas, há um ganho adicional de 20 unidades (efeito conjunto), além dos efeitos individuais.|20.0\t|0.002\t|✅ altamente significativo|\n",
        "\n",
        "# Interpretação dos resultados\n",
        "\n",
        "Efeito principal da Irrigação (IR):\n",
        "\n",
        "*  F = 88.89, p < 0.001 → altamente significativo.\n",
        "\n",
        "**Conclusão**: a irrigação tem efeito significativo sobre Y, ou seja, a média de Y difere entre os níveis de irrigação.\n",
        "\n",
        "Efeito principal da Calagem (CAL):\n",
        "\n",
        "*  F = 43.56, p < 0.001 → também altamente significativo.\n",
        "\n",
        "**Conclusão**: a calagem tem efeito significativo sobre Y, a média de Y difere entre os níveis de calagem.\n",
        "\n",
        "Interação IR × CAL:\n",
        "\n",
        "*  F = 22.22, p = 0.0015 → significativa.\n",
        "\n",
        "**Conclusão**: o efeito de irrigação depende do nível de calagem, e vice-versa.\n",
        "\n",
        "Isso indica que não podemos interpretar apenas os efeitos principais isoladamente; é necessário analisar os desdobramentos da interação.\n",
        "\n",
        "Resíduo:\n",
        "\n",
        "*  Soma de quadrados = 108, df = 8\n",
        "\n",
        "**Conclusão**: Representa a variação não explicada pelos fatores e interação, ou seja, o erro experimental.\n",
        "\n",
        "#📌 Síntese\n",
        "\n",
        "*  Todos os fatores (IR, CAL) e a interação entre eles são estatisticamente significativos.\n",
        "\n",
        "O próximo passo seria analisar os efeitos simples, ou seja:\n",
        "*  Comparar níveis de IR dentro de cada nível de CAL\n",
        "*  Comparar níveis de CAL dentro de cada nível de IR\n",
        "\n",
        "Isso ajuda a entender como cada fator age dependendo do outro."
      ],
      "metadata": {
        "id": "9ySiLONSCx2y"
      }
    },
    {
      "cell_type": "code",
      "source": [
        "# %% Gráfico de interação\n",
        "fig, ax = plt.subplots()\n",
        "pd.DataFrame(dados).pivot_table(index=\"IR\", columns=\"CAL\", values=\"Y\", observed=False).plot(ax=ax, marker=\"o\")\n",
        "plt.title(\"Interação: Irrigação x Calagem\")\n",
        "plt.ylabel(\"Kg de planta por parcela\")\n",
        "plt.show()"
      ],
      "metadata": {
        "id": "NhfZCQLv-s6d"
      },
      "execution_count": null,
      "outputs": []
    },
    {
      "cell_type": "code",
      "source": [
        "# %% Resíduos e diagnósticos\n",
        "residuos = modelo.resid\n",
        "print(\"\\nShapiro-Wilk Test (normalidade):\", stats.shapiro(residuos))\n",
        "plt.hist(residuos, bins=8)\n",
        "plt.title(\"Histograma dos resíduos\")\n",
        "plt.xlabel(\"Resíduo\")\n",
        "plt.ylabel(\"Frequência\")\n",
        "plt.show()\n",
        "\n",
        "# Homocedasticidade (Levene)\n",
        "print(\"\\nLevene Test (homogeneidade):\")\n",
        "print(stats.levene(*[group[\"Y\"].values for name, group in dados.groupby(\"TR\")]))\n",
        "\n",
        "# Independência dos erros (Durbin-Watson)\n",
        "dw = sm.stats.durbin_watson(residuos)\n",
        "print(f\"\\nDurbin-Watson = {dw:.3f}\")"
      ],
      "metadata": {
        "id": "se4OAsDX-_P2"
      },
      "execution_count": null,
      "outputs": []
    },
    {
      "cell_type": "code",
      "source": [
        "# %% Teste de Tukey (tratamentos)\n",
        "tukey = pairwise_tukeyhsd(dados[\"Y\"], dados[\"TR\"])\n",
        "print(\"\\n=== Tukey HSD - Tratamentos ===\")\n",
        "print(tukey.summary())\n",
        "\n",
        "# Gráfico do Tukey\n",
        "means = dados.groupby(\"TR\", observed=False)[\"Y\"].mean()\n",
        "plt.bar(means.index, means.values, color=\"skyblue\")\n",
        "plt.title(\"Tukey HSD - Médias por Tratamento\")\n",
        "plt.xlabel(\"Tratamento\")\n",
        "plt.ylabel(\"Média de Y\")\n",
        "plt.show()\n",
        "\n",
        "# %% Testes de Tukey para os fatores principais\n",
        "print(\"\\n=== Tukey HSD - Irrigação ===\")\n",
        "tukey_ir = pairwise_tukeyhsd(dados[\"Y\"], dados[\"IR\"])\n",
        "print(tukey_ir.summary())\n",
        "\n",
        "print(\"\\n=== Tukey HSD - Calagem ===\")\n",
        "tukey_cal = pairwise_tukeyhsd(dados[\"Y\"], dados[\"CAL\"])\n",
        "print(tukey_cal.summary())\n",
        "\n",
        "# %% Análise dos efeitos simples (desdobramento da interação)\n",
        "# Estudar IR dentro de cada nível de CAL (I/C)\n",
        "print(\"\\n=== Desdobramento: Irrigação dentro de cada nível de Calagem ===\")\n",
        "for cal in dados[\"CAL\"].cat.categories:\n",
        "    sub = dados[dados[\"CAL\"] == cal]\n",
        "    modelo_sub = smf.ols(\"Y ~ C(IR)\", data=sub).fit()\n",
        "    print(f\"\\nCalagem = {cal}\")\n",
        "    print(anova_lm(modelo_sub, typ=2))\n",
        "\n",
        "# Estudar CAL dentro de cada nível de IR (C/I)\n",
        "print(\"\\n=== Desdobramento: Calagem dentro de cada nível de Irrigação ===\")\n",
        "for ir in dados[\"IR\"].cat.categories:\n",
        "    sub = dados[dados[\"IR\"] == ir]\n",
        "    modelo_sub = smf.ols(\"Y ~ C(CAL)\", data=sub).fit()\n",
        "    print(f\"\\nIrrigação = {ir}\")\n",
        "    print(anova_lm(modelo_sub, typ=2))\n"
      ],
      "metadata": {
        "id": "t2EleQVE_VGW"
      },
      "execution_count": null,
      "outputs": []
    }
  ]
}