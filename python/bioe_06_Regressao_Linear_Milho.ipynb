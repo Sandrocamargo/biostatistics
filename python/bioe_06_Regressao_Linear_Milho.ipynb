{
  "nbformat": 4,
  "nbformat_minor": 0,
  "metadata": {
    "colab": {
      "provenance": []
    },
    "kernelspec": {
      "name": "python3",
      "display_name": "Python 3"
    },
    "language_info": {
      "name": "python"
    }
  },
  "cells": [
    {
      "cell_type": "markdown",
      "source": [
        "# Curso: Bioestatística — Experimento de Regressão Linear\n",
        "## Autores: Sandro da Silva Camargo e Fernando Cardoso\n",
        "\n",
        "**Problema**:Um experimento foi realizado para testar o efeito\n",
        "da adubação nitrogenada (0, 100, 200 e 300 kg/ha de Adubo\n",
        "Nitrogenado) na produção de milho (kg/parcela).\n",
        "\n",
        "\n",
        "A base de dados está disponível [aqui](https://github.com/Sandrocamargo/biostatistics/blob/master/datasets/rl-milho.txt).\n",
        "\n",
        "Abra este código no seu google colab [clicando aqui](https://colab.research.google.com/github/Sandrocamargo/biostatistics/blob/master/python/bioe_06_Regressao_Linear_Milho.ipynb)."
      ],
      "metadata": {
        "id": "aYCmmirMrUnF"
      }
    },
    {
      "cell_type": "code",
      "execution_count": null,
      "metadata": {
        "id": "7ZJ5dGoRHq3o"
      },
      "outputs": [],
      "source": [
        "import pandas as pd\n",
        "import statsmodels.api as sm\n",
        "import statsmodels.formula.api as smf\n",
        "import matplotlib.pyplot as plt"
      ]
    },
    {
      "cell_type": "markdown",
      "source": [
        "# Carga e inspeção dos dados"
      ],
      "metadata": {
        "id": "_pFLpeZlriLX"
      }
    },
    {
      "cell_type": "code",
      "source": [
        "# === 1. Leitura dos dados ===\n",
        "dados = pd.read_csv(\"https://raw.githubusercontent.com/Sandrocamargo/biostatistics/refs/heads/master/datasets/rl-milho.txt\", sep=r\"\\s+\", header=0)\n",
        "dados.info()\n",
        "dados.head()"
      ],
      "metadata": {
        "id": "cejmQoaPHs_x"
      },
      "execution_count": null,
      "outputs": []
    },
    {
      "cell_type": "markdown",
      "source": [
        "# Adaptação de um modelo de regressão linear"
      ],
      "metadata": {
        "id": "6nFOvcTcr5c0"
      }
    },
    {
      "cell_type": "code",
      "source": [
        "dados[\"trat\"] = dados[\"dose\"].astype(\"category\")\n",
        "\n",
        "modelo = smf.ols(\"prod ~ dose\", data=dados).fit()\n",
        "print(\"=== Modelo de regressão simples ===\")\n",
        "print(modelo.summary())"
      ],
      "metadata": {
        "id": "qPpwuuf0H2ZK"
      },
      "execution_count": null,
      "outputs": []
    },
    {
      "cell_type": "markdown",
      "source": [
        "# Análise de variância"
      ],
      "metadata": {
        "id": "q9cQ2L3VsDOS"
      }
    },
    {
      "cell_type": "code",
      "source": [
        "print(\"\\n=== ANOVA usual ===\")\n",
        "anova_geral = sm.stats.anova_lm(modelo, typ=2)\n",
        "print(anova_geral)"
      ],
      "metadata": {
        "id": "To16xH-osDwv"
      },
      "execution_count": null,
      "outputs": []
    },
    {
      "cell_type": "code",
      "source": [
        "# === 3. Decomposição da SQTratamento ===\n",
        "# SQTratamento = SQRegressão + SQFalta de Ajuste\n",
        "desd_modelo = smf.ols(\"prod ~ dose + trat\", data=dados).fit()\n",
        "anova_desd = sm.stats.anova_lm(desd_modelo, typ=2)\n",
        "print(\"\\n=== ANOVA com decomposição (dose + trat) ===\")\n",
        "print(anova_desd)\n",
        "\n",
        "# Coeficiente de determinação (r²)\n",
        "SQReg = anova_desd.loc[\"dose\", \"sum_sq\"]\n",
        "SQTrat = SQReg + anova_desd.loc[\"trat\", \"sum_sq\"]\n",
        "r2 = SQReg / SQTrat\n",
        "print(f\"\\nCoeficiente de Determinação (r²) = {r2:.3f}\")"
      ],
      "metadata": {
        "id": "JHsfeH_iH6wz"
      },
      "execution_count": null,
      "outputs": []
    },
    {
      "cell_type": "markdown",
      "source": [
        "# Análise gráfica"
      ],
      "metadata": {
        "id": "BMIRSVM5sN5Q"
      }
    },
    {
      "cell_type": "code",
      "source": [
        "# === 4. Ajuste final e gráfico ===\n",
        "modelo_ajustado = modelo  # mesmo modelo linear simples\n",
        "\n",
        "b0, b1 = modelo_ajustado.params\n",
        "print(f\"\\nModelo ajustado: y = {b0:.5f} + {b1:.5f}x\")\n",
        "\n",
        "# Geração do gráfico\n",
        "plt.figure(figsize=(8, 6))\n",
        "plt.scatter(dados[\"dose\"], dados[\"prod\"], color=\"blue\", label=\"Observações\")\n",
        "\n",
        "# linha de regressão\n",
        "x_vals = pd.Series(sorted(dados[\"dose\"]))\n",
        "y_vals = b0 + b1 * x_vals\n",
        "plt.plot(x_vals, y_vals, color=\"red\", label=\"Ajuste linear\")\n",
        "\n",
        "plt.xlabel(\"Dose adubo nitrogenado (kg/ha)\")\n",
        "plt.ylabel(\"Produção de milho (kg/parcela)\")\n",
        "plt.title(f\"R² ajustado = {modelo_ajustado.rsquared_adj:.4f}\")\n",
        "plt.legend(title=f\"y = {b0:.5f} + {b1:.5f}x\", loc=\"upper left\")\n",
        "plt.grid(True)\n",
        "plt.tight_layout()\n",
        "plt.show()"
      ],
      "metadata": {
        "id": "z5aVzYp1H9Rj"
      },
      "execution_count": null,
      "outputs": []
    }
  ]
}