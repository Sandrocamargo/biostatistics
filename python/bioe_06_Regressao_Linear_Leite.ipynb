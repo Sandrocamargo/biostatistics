{
  "nbformat": 4,
  "nbformat_minor": 0,
  "metadata": {
    "colab": {
      "provenance": []
    },
    "kernelspec": {
      "name": "python3",
      "display_name": "Python 3"
    },
    "language_info": {
      "name": "python"
    }
  },
  "cells": [
    {
      "cell_type": "code",
      "execution_count": null,
      "metadata": {
        "id": "K2ILI6j3EmP5"
      },
      "outputs": [],
      "source": [
        "###################################################\n",
        "# Author: Fernando Cardoso e Sandro Camargo\n",
        "# Course: Biostatistics\n",
        "# Federal University of Pampa - Bagé - PPGCAP\n",
        "#\n",
        "# Example 1 - Feed protein x Milk production\n",
        "# One-way Regression ANOVA (no repetition)\n",
        "###################################################\n",
        "\n",
        "import pandas as pd\n",
        "import statsmodels.api as sm\n",
        "import statsmodels.formula.api as smf\n",
        "import matplotlib.pyplot as plt"
      ]
    },
    {
      "cell_type": "code",
      "source": [
        "# --- Read data ---\n",
        "dados = pd.read_csv(\"https://raw.githubusercontent.com/Sandrocamargo/biostatistics/refs/heads/master/datasets/rl-leite.txt\", sep=\"\\t\", decimal=\",\", header=0)\n",
        "dados.info()\n",
        "dados.head()"
      ],
      "metadata": {
        "id": "xxEREW4jEqSY"
      },
      "execution_count": null,
      "outputs": []
    },
    {
      "cell_type": "code",
      "source": [
        "# --- Fit linear model ---\n",
        "modelo = smf.ols(\"y ~ prot\", data=dados).fit()\n",
        "\n",
        "# --- Summary (t-tests, coefficients, R²) ---\n",
        "print(\"\\nResumo do modelo:\")\n",
        "print(modelo.summary())"
      ],
      "metadata": {
        "id": "donfp_8OFAuX"
      },
      "execution_count": null,
      "outputs": []
    },
    {
      "cell_type": "code",
      "source": [
        "# --- ANOVA table ---\n",
        "anova_table = sm.stats.anova_lm(modelo, typ=2)\n",
        "print(\"\\nANOVA do modelo:\")\n",
        "print(anova_table)"
      ],
      "metadata": {
        "id": "SIPEvmsCFC1s"
      },
      "execution_count": null,
      "outputs": []
    },
    {
      "cell_type": "code",
      "source": [
        "# --- Scatterplot with regression line ---\n",
        "plt.figure(figsize=(8, 6))\n",
        "plt.scatter(dados[\"prot\"], dados[\"y\"], color=\"blue\", label=\"Observações\")\n",
        "\n",
        "# Regression line\n",
        "x_vals = pd.Series(sorted(dados[\"prot\"]))\n",
        "#y_vals = modelo.params[0] + modelo.params[1] * x_vals\n",
        "y_vals = modelo.params.iloc[0] + modelo.params.iloc[1] * x_vals\n",
        "plt.plot(x_vals, y_vals, color=\"red\", label=\"Ajuste linear\")\n",
        "\n",
        "# Axis limits similar to R version\n",
        "plt.xlim(dados[\"prot\"].min() * 0.95, dados[\"prot\"].max() * 1.05)\n",
        "plt.ylim(dados[\"y\"].min() * 0.95, dados[\"y\"].max() * 1.05)\n",
        "\n",
        "# Labels\n",
        "plt.xlabel(\"Proteína na Ração (%)\")\n",
        "plt.ylabel(\"Produção de Leite (kg)\")\n",
        "\n",
        "# Equation and R² in legend\n",
        "#eq_text = f\"y = {modelo.params[0]:.4f} + {modelo.params[1]:.4f}x\\nR² = {modelo.rsquared_adj:.4f}\"\n",
        "eq_text = f\"y = {modelo.params.iloc[0]:.4f} + {modelo.params.iloc[1]:.4f}x\\nR² = {modelo.rsquared_adj:.4f}\"\n",
        "plt.legend([eq_text], loc=\"upper left\")\n",
        "\n",
        "# --- Save or show ---\n",
        "plt.savefig(\"rl_leite_regressao.png\", dpi=300, bbox_inches=\"tight\")\n",
        "plt.show()"
      ],
      "metadata": {
        "id": "avVPfnMkFO9R"
      },
      "execution_count": null,
      "outputs": []
    }
  ]
}